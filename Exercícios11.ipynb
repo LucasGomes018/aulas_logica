{
 "cells": [
  {
   "cell_type": "markdown",
   "metadata": {},
   "source": [
    "$$01$$"
   ]
  },
  {
   "cell_type": "code",
   "execution_count": 1,
   "metadata": {},
   "outputs": [
    {
     "name": "stdout",
     "output_type": "stream",
     "text": [
      "Seja Bem-Vindo ao SESI 😎\n"
     ]
    }
   ],
   "source": [
    "print(\"Seja Bem-Vindo ao SESI 😎\")"
   ]
  },
  {
   "cell_type": "markdown",
   "metadata": {},
   "source": [
    "$$02$$"
   ]
  },
  {
   "cell_type": "code",
   "execution_count": 2,
   "metadata": {},
   "outputs": [
    {
     "name": "stdout",
     "output_type": "stream",
     "text": [
      "O número informado foi 15\n"
     ]
    }
   ],
   "source": [
    "nr = input('Digite um numero')\n",
    "print(f'O número informado foi {nr}')"
   ]
  },
  {
   "cell_type": "markdown",
   "metadata": {},
   "source": [
    "$$03$$"
   ]
  },
  {
   "cell_type": "code",
   "execution_count": 4,
   "metadata": {},
   "outputs": [
    {
     "name": "stdout",
     "output_type": "stream",
     "text": [
      "O primeiro numero é 10, o segundo é 2 sua divisão é 5.0\n"
     ]
    }
   ],
   "source": [
    "nr = int(input('Digite um numero inteiro'))\n",
    "nr2 = int(input('Digite um numero inteiro'))\n",
    "print(f'O primeiro numero é {nr}, o segundo é {nr2} sua divisão é {nr / nr2}')"
   ]
  },
  {
   "cell_type": "markdown",
   "metadata": {},
   "source": [
    "$$04$$"
   ]
  },
  {
   "cell_type": "code",
   "execution_count": 6,
   "metadata": {},
   "outputs": [
    {
     "name": "stdout",
     "output_type": "stream",
     "text": [
      "Você recebe 15000.0R$\n"
     ]
    }
   ],
   "source": [
    "salario = float(input('Quanto você recebe por hora?'))\n",
    "horas = int(input('Quantas horas você trabalha?'))\n",
    "dias = int(input(\"Quantos dias você trabalha no mês\"))\n",
    "print(f'Você recebe {(salario * horas) * dias}R$')"
   ]
  },
  {
   "cell_type": "markdown",
   "metadata": {},
   "source": [
    "$$05$$"
   ]
  },
  {
   "cell_type": "code",
   "execution_count": 12,
   "metadata": {},
   "outputs": [
    {
     "name": "stdout",
     "output_type": "stream",
     "text": [
      "Masculino\n"
     ]
    }
   ],
   "source": [
    "sexo = input('Digite seu sexo [F/M]')\n",
    "if sexo == 'F' or sexo == 'f' :\n",
    "    print('Feminino')\n",
    "elif sexo == 'M' or sexo == 'm':\n",
    "    print('Masculino')\n",
    "else :\n",
    "    print('Sexo inválido')"
   ]
  },
  {
   "cell_type": "markdown",
   "metadata": {},
   "source": [
    "$$06$$"
   ]
  },
  {
   "cell_type": "code",
   "execution_count": 21,
   "metadata": {},
   "outputs": [
    {
     "name": "stdout",
     "output_type": "stream",
     "text": [
      "60.87Kg\n",
      "f\n"
     ]
    }
   ],
   "source": [
    "# F = feminino\n",
    "# M = masculino\n",
    "sexo = input('Digite seu sexo [F/M]')\n",
    "altura = float(input('Digite sua altura'))\n",
    "if sexo == 'F' or sexo == 'f':\n",
    "    print(f'{(62.1 * altura) - 44.7:.2f}Kg')\n",
    "elif sexo == 'M' or sexo == 'm' :\n",
    "    print(f'{(72.7 * altura) - 58:.2f}Kg')\n",
    "print(sexo)"
   ]
  },
  {
   "cell_type": "markdown",
   "metadata": {},
   "source": [
    "$$07$$"
   ]
  },
  {
   "cell_type": "code",
   "execution_count": 42,
   "metadata": {},
   "outputs": [
    {
     "name": "stdout",
     "output_type": "stream",
     "text": [
      "+Salário Bruto    2500.0R$\n",
      "-IRPF             275.0R$\n",
      "-INSS             200.0R$\n",
      "-SINDICATO        125.0R$\n",
      "=Salário Liquido  1900.0R$\n"
     ]
    }
   ],
   "source": [
    "salario = float(input('Quanto você recebe por mês'))\n",
    "\n",
    "irpf = salario * 0.11\n",
    "inss = salario * 0.08\n",
    "sindicato = salario * 0.05\n",
    "total = salario - (irpf + inss+ sindicato)\n",
    "print(f'+Salário Bruto    {salario}R$')\n",
    "print(f'-IRPF             {irpf}R$')\n",
    "print(f'-INSS             {inss}R$')\n",
    "print(f'-SINDICATO        {sindicato}R$')\n",
    "print(f'=Salário Liquido  {total}R$')"
   ]
  },
  {
   "cell_type": "markdown",
   "metadata": {},
   "source": [
    "$$08$$"
   ]
  },
  {
   "cell_type": "code",
   "execution_count": 55,
   "metadata": {},
   "outputs": [
    {
     "name": "stdout",
     "output_type": "stream",
     "text": [
      "Positivo\n"
     ]
    }
   ],
   "source": [
    "def calc() :\n",
    "    valor = float(input('Digite um valor'))\n",
    "    if valor >= 0 :\n",
    "        print('Positivo')\n",
    "    else :\n",
    "        print('Negativo')\n",
    "calc()"
   ]
  },
  {
   "cell_type": "markdown",
   "metadata": {},
   "source": [
    "$$09$$"
   ]
  },
  {
   "cell_type": "code",
   "execution_count": 57,
   "metadata": {},
   "outputs": [
    {
     "name": "stdout",
     "output_type": "stream",
     "text": [
      "1\n",
      "3\n",
      "5\n",
      "7\n",
      "9\n",
      "11\n",
      "13\n",
      "15\n",
      "17\n",
      "19\n",
      "21\n",
      "23\n",
      "25\n",
      "27\n",
      "29\n",
      "31\n",
      "33\n",
      "35\n",
      "37\n",
      "39\n",
      "41\n",
      "43\n",
      "45\n",
      "47\n",
      "49\n"
     ]
    }
   ],
   "source": [
    "def nmrs():\n",
    "    for nr in range(1,50) :\n",
    "        if nr % 2 != 0 :\n",
    "            print(nr)\n",
    "nmrs()\n"
   ]
  },
  {
   "cell_type": "markdown",
   "metadata": {},
   "source": [
    "$$10$$"
   ]
  },
  {
   "cell_type": "code",
   "execution_count": 58,
   "metadata": {},
   "outputs": [
    {
     "name": "stdout",
     "output_type": "stream",
     "text": [
      "10\n",
      "11\n",
      "12\n",
      "13\n",
      "14\n",
      "15\n",
      "16\n",
      "17\n",
      "18\n",
      "19\n",
      "20\n",
      "21\n",
      "22\n",
      "23\n",
      "24\n"
     ]
    }
   ],
   "source": [
    "def nrs() :\n",
    "    nr1 = int(input('Digite um numero'))\n",
    "    nr2 = int(input('Digite outro numero'))\n",
    "    for x in range(nr1, nr2) :\n",
    "        print(x)\n",
    "nrs()"
   ]
  },
  {
   "cell_type": "markdown",
   "metadata": {},
   "source": [
    "$$11$$"
   ]
  },
  {
   "cell_type": "code",
   "execution_count": 122,
   "metadata": {},
   "outputs": [
    {
     "name": "stdout",
     "output_type": "stream",
     "text": [
      "123456\n",
      "654321\n"
     ]
    }
   ],
   "source": [
    "def func() :\n",
    "    nums = input('Digite uma sequencia de numeros')\n",
    "    lista = ''\n",
    "    for num in nums :\n",
    "        lista = num + lista\n",
    "    print(nums)\n",
    "    print(lista)\n",
    "\n",
    "func()"
   ]
  },
  {
   "cell_type": "markdown",
   "metadata": {},
   "source": [
    "$$12$$"
   ]
  },
  {
   "cell_type": "code",
   "execution_count": 130,
   "metadata": {},
   "outputs": [
    {
     "name": "stdout",
     "output_type": "stream",
     "text": [
      "55\n"
     ]
    }
   ],
   "source": [
    "A = [1, 2, 3, 4, 5]\n",
    "soma = 0\n",
    "for nr in A :\n",
    "    soma = soma + (nr**2)\n",
    "print(soma)\n"
   ]
  },
  {
   "cell_type": "markdown",
   "metadata": {},
   "source": [
    "$$13$$"
   ]
  },
  {
   "cell_type": "code",
   "execution_count": 1,
   "metadata": {},
   "outputs": [
    {
     "name": "stdout",
     "output_type": "stream",
     "text": [
      "[2, 6, 4, 8, 4]\n",
      "[3, 5, 7]\n"
     ]
    }
   ],
   "source": [
    "par = []\n",
    "impar = []\n",
    "for x in range(8) :\n",
    "    nr = int(input('Digite um numero'))\n",
    "    if nr % 2 == 0 :\n",
    "        par.append(nr)\n",
    "    elif nr % 2 != 0 :\n",
    "        impar.append(nr)\n",
    "    \n",
    "print(par)\n",
    "print(impar)"
   ]
  },
  {
   "cell_type": "markdown",
   "metadata": {},
   "source": [
    "$$14$$"
   ]
  },
  {
   "cell_type": "code",
   "execution_count": null,
   "metadata": {},
   "outputs": [],
   "source": []
  },
  {
   "cell_type": "markdown",
   "metadata": {},
   "source": [
    "$$15$$"
   ]
  },
  {
   "cell_type": "code",
   "execution_count": 6,
   "metadata": {},
   "outputs": [
    {
     "name": "stdout",
     "output_type": "stream",
     "text": [
      "Sua média é 6.25\n"
     ]
    }
   ],
   "source": [
    "def func() :\n",
    "    n1 = float(input('Digite sua nota'))\n",
    "    n2 = float(input('Digite sua nota'))\n",
    "    n3 = float(input('Digite sua nota'))\n",
    "    n4 = float(input('Digite sua nota'))\n",
    "    print(f'Sua média é {(n1+n2+n3+n4) / 4}')\n",
    "\n",
    "func()\n"
   ]
  },
  {
   "cell_type": "markdown",
   "metadata": {},
   "source": [
    "$$16$$"
   ]
  },
  {
   "cell_type": "code",
   "execution_count": 7,
   "metadata": {},
   "outputs": [
    {
     "name": "stdout",
     "output_type": "stream",
     "text": [
      "Você digitou 6 metros, que são equivalentes a 600centimetros\n"
     ]
    }
   ],
   "source": [
    "def func() :\n",
    "    medida1 = int(input('Digite a medida em metros'))\n",
    "    conversao = medida1 * 100\n",
    "    print(f'Você digitou {medida1} metros, que são equivalentes a {conversao} centimetros')\n",
    "\n",
    "func()"
   ]
  },
  {
   "cell_type": "markdown",
   "metadata": {},
   "source": [
    "$$17$$"
   ]
  },
  {
   "cell_type": "code",
   "execution_count": null,
   "metadata": {},
   "outputs": [],
   "source": []
  },
  {
   "cell_type": "markdown",
   "metadata": {},
   "source": [
    "$$18$$"
   ]
  },
  {
   "cell_type": "code",
   "execution_count": 2,
   "metadata": {},
   "outputs": [
    {
     "name": "stdout",
     "output_type": "stream",
     "text": [
      "PARCELA  | % JUROS   |  PARCELA\n",
      "1        | 2000.0    |  2000.00\n",
      "3        | 200.0     |  666.67\n",
      "6        | 300.0     |  333.33\n",
      "9        | 400.0     |  222.22\n",
      "12       | 500.0     |  166.67\n"
     ]
    }
   ],
   "source": [
    "divida = float(input('Digite o valor da divida'))\n",
    "juros1 = divida * 0.1\n",
    "juros2 = divida * 0.15\n",
    "juros3 = divida * 0.2\n",
    "juros4 = divida * 0.25\n",
    "print('PARCELA  | % JUROS   |  PARCELA')\n",
    "print(f'1        | {divida}    |  {divida / 1:.2f}')\n",
    "print(f'3        | {juros1}     |  {divida / 3:.2f}')\n",
    "print(f'6        | {juros2}     |  {divida / 6:.2f}')\n",
    "print(f'9        | {juros3}     |  {divida / 9:.2f}')\n",
    "print(f'12       | {juros4}     |  {divida / 12:.2f}')"
   ]
  }
 ],
 "metadata": {
  "kernelspec": {
   "display_name": "Python 3",
   "language": "python",
   "name": "python3"
  },
  "language_info": {
   "codemirror_mode": {
    "name": "ipython",
    "version": 3
   },
   "file_extension": ".py",
   "mimetype": "text/x-python",
   "name": "python",
   "nbconvert_exporter": "python",
   "pygments_lexer": "ipython3",
   "version": "3.12.2"
  }
 },
 "nbformat": 4,
 "nbformat_minor": 2
}
