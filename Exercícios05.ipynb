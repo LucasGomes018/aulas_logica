{
 "cells": [
  {
   "cell_type": "markdown",
   "metadata": {},
   "source": [
    "Atividade 01 - exibir todos os números pares de 1 a 20"
   ]
  },
  {
   "cell_type": "code",
   "execution_count": 3,
   "metadata": {},
   "outputs": [
    {
     "name": "stdout",
     "output_type": "stream",
     "text": [
      "20\n",
      "18\n",
      "16\n",
      "14\n",
      "12\n",
      "10\n",
      "8\n",
      "6\n",
      "4\n",
      "2\n",
      "0\n"
     ]
    }
   ],
   "source": [
    "\n",
    "x = 20\n",
    "while x >= 0 :\n",
    "    print(x)\n",
    "    x = x - 2\n",
    "\n"
   ]
  },
  {
   "cell_type": "markdown",
   "metadata": {},
   "source": [
    "Atividade 2 - Gere 6 numeros do sorteio da mega - sena de forma aleatória"
   ]
  },
  {
   "cell_type": "code",
   "execution_count": 1,
   "metadata": {},
   "outputs": [
    {
     "name": "stdout",
     "output_type": "stream",
     "text": [
      "-=-=-=-=-=-=-=-=-=-=-=-=-=-=-\n",
      "     RESULTADO MEGA-SENA     \n",
      "-=-=-=-=-=-=-=-=-=-=-=-=-=-=-\n",
      "11\n",
      "3\n",
      "39\n",
      "11\n",
      "3\n",
      "32\n"
     ]
    }
   ],
   "source": [
    "import random\n",
    "qnumero = 0 \n",
    "print('-=-=-=-=-=-=-=-=-=-=-=-=-=-=-')\n",
    "print('     RESULTADO MEGA-SENA     ')\n",
    "print('-=-=-=-=-=-=-=-=-=-=-=-=-=-=-')\n",
    "while qnumero <= 6 :\n",
    "    numero = random.randint (1, 60)\n",
    "    print(numero)\n",
    "    qnumero = qnumero + 1\n",
    "    if qnumero == 6:\n",
    "        break\n",
    "    "
   ]
  },
  {
   "cell_type": "markdown",
   "metadata": {},
   "source": [
    "Atividade 03"
   ]
  },
  {
   "cell_type": "code",
   "execution_count": 4,
   "metadata": {},
   "outputs": [
    {
     "name": "stdout",
     "output_type": "stream",
     "text": [
      "A soma dos numeros é 161, você tem 1 numeros pares e 3 numeros impares\n"
     ]
    }
   ],
   "source": [
    "soma = 0\n",
    "par = 0\n",
    "impar = 0\n",
    "qntd = 0\n",
    "while True :\n",
    "    valor = int(input('Qual valor você quer somar [digite 0 para encerrar]'))\n",
    "    if valor == 0 :\n",
    "        break\n",
    "    elif valor % 2 == 0:\n",
    "        par = par + 1\n",
    "    elif valor % 2 != 0:\n",
    "        impar = impar + 1\n",
    "    soma = valor + soma\n",
    "print(f'A soma dos numeros é {soma}, você tem {par} numeros pares e {impar} numeros impares')"
   ]
  }
 ],
 "metadata": {
  "kernelspec": {
   "display_name": "Python 3",
   "language": "python",
   "name": "python3"
  },
  "language_info": {
   "codemirror_mode": {
    "name": "ipython",
    "version": 3
   },
   "file_extension": ".py",
   "mimetype": "text/x-python",
   "name": "python",
   "nbconvert_exporter": "python",
   "pygments_lexer": "ipython3",
   "version": "3.12.2"
  }
 },
 "nbformat": 4,
 "nbformat_minor": 2
}
