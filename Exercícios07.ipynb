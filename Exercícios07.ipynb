{
 "cells": [
  {
   "cell_type": "markdown",
   "metadata": {},
   "source": [
    ">Atividade 01"
   ]
  },
  {
   "cell_type": "code",
   "execution_count": 42,
   "metadata": {},
   "outputs": [
    {
     "name": "stdout",
     "output_type": "stream",
     "text": [
      "['Homem - Aranha', 'Carros', 'Venom', 'Velozes e Furiosos', 'Up', 'Harry Potter', 'Nemo']\n",
      "Homem - Aranha\n",
      "Velozes e Furiosos\n",
      "['Homem - Aranha', 'Carros', 'Venom', 'Velozes e Furiosos', 'Up', 'Harry Potter', 'Detona Half']\n",
      "['Homem - Aranha', 'Carros', 'Venom', 'Velozes e Furiosos', 'Up', 'Harry Potter', 'Detona Half']\n",
      "['Homem - Aranha', 'Carros', 'Venom', 'Velozes e Furiosos', 'Up', 'Harry Potter', 'Detona Half', 'Shrek']\n",
      "['Homem - Aranha', 'Carros', 'Venom', 'Velozes e Furiosos', 'Up', 'Rambo', 'Harry Potter', 'Detona Half', 'Shrek']\n",
      "['Carros', 'Venom', 'Velozes e Furiosos', 'Up', 'Rambo', 'Harry Potter', 'Detona Half', 'Shrek']\n",
      "['Carros', 'Venom', 'Velozes e Furiosos', 'Up', 'Rambo', 'Harry Potter', 'Detona Half']\n",
      "['Carros', 'Venom', 'Velozes e Furiosos']\n",
      "['Up', 'Rambo', 'Harry Potter', 'Detona Half']\n",
      "7\n",
      "['Detona Half', 'Harry Potter', 'Rambo', 'Up', 'Velozes e Furiosos', 'Venom', 'Carros']\n"
     ]
    }
   ],
   "source": [
    "filmes = ['Homem - Aranha', 'Carros', 'Venom', 'Velozes e Furiosos', 'Up', 'Harry Potter', 'Nemo']\n",
    "print(filmes)\n",
    "print(filmes[0])\n",
    "print(filmes[3])\n",
    "filmes[6] = 'Detona Half'\n",
    "print(filmes)\n",
    "print(filmes)\n",
    "filmes.insert(7, 'Shrek')\n",
    "print(filmes)\n",
    "filmes.insert(5, 'Rambo')\n",
    "print(filmes)\n",
    "filmes.pop(0)\n",
    "print(filmes)\n",
    "filmes.pop()\n",
    "print(filmes)\n",
    "print(filmes[0:3])\n",
    "print(filmes[-4:])\n",
    "print(len(filmes))\n",
    "filmes.reverse()\n",
    "print(filmes)"
   ]
  },
  {
   "cell_type": "markdown",
   "metadata": {},
   "source": [
    ">Atividade 02"
   ]
  },
  {
   "cell_type": "code",
   "execution_count": 45,
   "metadata": {},
   "outputs": [
    {
     "name": "stdout",
     "output_type": "stream",
     "text": [
      "['Palmeiras', 'Atlético - MG', 'Flamengo', 'Grêmio', 'Botafogo', 'RB Bragantino', 'Fluminense', ' Athletico-PR', 'Internacional', 'Fortaleza', 'São Paulo', 'Cuiabá', 'Corinthians', 'Cruzeiro', 'Vasco', 'Bahia', 'Vitória', 'Juventude', 'Criciúma', 'Atlético-GO']\n",
      "O time Palmeiras é o campeão\n",
      "Os times ['Palmeiras', 'Atlético - MG', 'Flamengo', 'Grêmio'] irão jogar na libertadores\n",
      "['Vitória', 'Juventude', 'Criciúma', 'Atlético-GO']\n"
     ]
    }
   ],
   "source": [
    "times = ['Palmeiras', 'Atlético - MG', 'Flamengo', 'Grêmio', 'Botafogo', 'RB Bragantino', 'Fluminense', ' Athletico-PR', 'Internacional', 'Fortaleza', 'São Paulo', 'Cuiabá', 'Corinthians', 'Cruzeiro', 'Vasco', 'Bahia', 'Vitória', 'Juventude', 'Criciúma', 'Atlético-GO']\n",
    "print(times)\n",
    "print(f'O time {times[0]} é o campeão')\n",
    "print(f'Os times {times[0:4]} irão jogar na libertadores')\n",
    "print(times[-4:])\n"
   ]
  },
  {
   "cell_type": "markdown",
   "metadata": {},
   "source": [
    ">Atividade 03"
   ]
  },
  {
   "cell_type": "code",
   "execution_count": 59,
   "metadata": {},
   "outputs": [
    {
     "name": "stdout",
     "output_type": "stream",
     "text": [
      "['strogonoff', 'almondega', 'hamburguer', 'pizza', 'esfiha', 'fruta']\n",
      "strogonoff\n",
      "pizza\n",
      "['strogonoff', 'almondega', 'hamburguer', 'pizza', 'esfiha', 'Arroz e Feijão']\n",
      "['strogonoff', 'almondega', 'hamburguer', 'pizza', 'esfiha', 'Arroz e Feijão', 'Feijoada']\n"
     ]
    },
    {
     "ename": "TypeError",
     "evalue": "'builtin_function_or_method' object does not support item assignment",
     "output_type": "error",
     "traceback": [
      "\u001b[1;31m---------------------------------------------------------------------------\u001b[0m",
      "\u001b[1;31mTypeError\u001b[0m                                 Traceback (most recent call last)",
      "Cell \u001b[1;32mIn[59], line 12\u001b[0m\n\u001b[0;32m     10\u001b[0m comidas\u001b[38;5;241m.\u001b[39mappend(\u001b[38;5;124m'\u001b[39m\u001b[38;5;124mFeijoada\u001b[39m\u001b[38;5;124m'\u001b[39m)\n\u001b[0;32m     11\u001b[0m \u001b[38;5;28mprint\u001b[39m(comidas)\n\u001b[1;32m---> 12\u001b[0m \u001b[43mcomidas\u001b[49m\u001b[38;5;241;43m.\u001b[39;49m\u001b[43minsert\u001b[49m\u001b[43m[\u001b[49m\u001b[38;5;241;43m4\u001b[39;49m\u001b[43m]\u001b[49m \u001b[38;5;241m=\u001b[39m \u001b[38;5;124m'\u001b[39m\u001b[38;5;124mPeixe\u001b[39m\u001b[38;5;124m'\u001b[39m\n\u001b[0;32m     13\u001b[0m \u001b[38;5;28mprint\u001b[39m(comidas)\n\u001b[0;32m     14\u001b[0m comidas\u001b[38;5;241m.\u001b[39mpop()\n",
      "\u001b[1;31mTypeError\u001b[0m: 'builtin_function_or_method' object does not support item assignment"
     ]
    }
   ],
   "source": [
    "comidas = []\n",
    "for x in range(1, 7) :\n",
    "    comida = input('Digite o nome de uma comida')\n",
    "    comidas.append(comida)\n",
    "print(comidas)\n",
    "print(comidas[0])\n",
    "print(comidas[3])\n",
    "comidas[5] = 'Arroz e Feijão'\n",
    "print(comidas)\n",
    "comidas.append('Feijoada')\n",
    "print(comidas)\n",
    "comidas.pop()\n",
    "print(comidas)\n",
    "print(comidas[0:3])"
   ]
  }
 ],
 "metadata": {
  "kernelspec": {
   "display_name": "Python 3",
   "language": "python",
   "name": "python3"
  },
  "language_info": {
   "codemirror_mode": {
    "name": "ipython",
    "version": 3
   },
   "file_extension": ".py",
   "mimetype": "text/x-python",
   "name": "python",
   "nbconvert_exporter": "python",
   "pygments_lexer": "ipython3",
   "version": "3.12.2"
  }
 },
 "nbformat": 4,
 "nbformat_minor": 2
}
