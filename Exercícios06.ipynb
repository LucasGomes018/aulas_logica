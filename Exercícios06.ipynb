{
 "cells": [
  {
   "cell_type": "markdown",
   "metadata": {},
   "source": [
    "Atividade 01"
   ]
  },
  {
   "cell_type": "code",
   "execution_count": 17,
   "metadata": {},
   "outputs": [
    {
     "name": "stdout",
     "output_type": "stream",
     "text": [
      "1\n",
      "3\n",
      "5\n",
      "7\n",
      "9\n",
      "11\n",
      "13\n",
      "15\n",
      "17\n",
      "19\n",
      "21\n",
      "23\n",
      "25\n",
      "27\n",
      "29\n",
      "31\n",
      "33\n",
      "35\n",
      "37\n",
      "39\n"
     ]
    }
   ],
   "source": [
    "for x in range(41) :\n",
    "    if x % 2 != 0:\n",
    "        print(x)"
   ]
  },
  {
   "cell_type": "markdown",
   "metadata": {},
   "source": [
    "Atividade 02"
   ]
  },
  {
   "cell_type": "code",
   "execution_count": 26,
   "metadata": {},
   "outputs": [
    {
     "name": "stdout",
     "output_type": "stream",
     "text": [
      "O numero sorteado é 25\n",
      "O numero sorteado é 30\n",
      "O numero sorteado é 17\n",
      "O numero sorteado é 34\n",
      "O numero sorteado é 46\n",
      "O numero sorteado é 60\n"
     ]
    }
   ],
   "source": [
    "import random\n",
    "for nr in range(6):\n",
    "    nr = random.randint (1, 60)\n",
    "    print(f'O numero sorteado é {nr}')"
   ]
  },
  {
   "cell_type": "markdown",
   "metadata": {},
   "source": [
    "Atividade 03"
   ]
  },
  {
   "cell_type": "code",
   "execution_count": 31,
   "metadata": {},
   "outputs": [
    {
     "name": "stdout",
     "output_type": "stream",
     "text": [
      "A soma dos numeros é 70, você tem 3 numeros pares e 2 numeros impares\n"
     ]
    }
   ],
   "source": [
    "soma = 0\n",
    "par = 0\n",
    "impar = 0\n",
    "for valor in range (1, 6):\n",
    "    valor = int(input('Qual valor você quer somar [digite 0 para encerrar]'))\n",
    "    if valor % 2 == 0:\n",
    "        par = par + 1\n",
    "    elif valor % 2 != 0:\n",
    "        impar = impar + 1\n",
    "    soma = valor + soma\n",
    "print(f'A soma dos numeros é {soma}, você tem {par} numeros pares e {impar} numeros impares')"
   ]
  },
  {
   "cell_type": "markdown",
   "metadata": {},
   "source": [
    "Atividade 04"
   ]
  },
  {
   "cell_type": "code",
   "execution_count": 38,
   "metadata": {},
   "outputs": [
    {
     "name": "stdout",
     "output_type": "stream",
     "text": [
      "12\n",
      "14\n",
      "16\n",
      "18\n",
      "20\n",
      "22\n",
      "24\n",
      "26\n",
      "28\n",
      "30\n",
      "32\n",
      "34\n",
      "36\n",
      "38\n",
      "40\n",
      "42\n",
      "44\n",
      "46\n",
      "48\n"
     ]
    }
   ],
   "source": [
    "pr1 = int(input('Digite o parametro de inicio'))\n",
    "pr2 = int(input('Digite o parametro de fim'))\n",
    "pr3 = int(input('Digite o parametro de passo'))\n",
    "for x in range(pr1, pr2, pr3):\n",
    "    print(x)"
   ]
  },
  {
   "cell_type": "markdown",
   "metadata": {},
   "source": [
    "Atividade 05"
   ]
  },
  {
   "cell_type": "code",
   "execution_count": 2,
   "metadata": {},
   "outputs": [
    {
     "name": "stdout",
     "output_type": "stream",
     "text": [
      "Médias das mulheres 18.666666666666668\n",
      "Médias dos homens 12.5\n",
      "Médias do grupo 16.2\n"
     ]
    }
   ],
   "source": [
    "soma_mulheres = 0\n",
    "soma_homens = 0\n",
    "qtde_mulheres = 0\n",
    "qtde_homens = 0\n",
    "for x in range(5) :\n",
    "    idade = int(input('Digite a idade: '))\n",
    "    sexo = input('Digite seu sexo: [F/M]')\n",
    "    if sexo == 'F' or  sexo == 'f' :\n",
    "        soma_mulheres  = soma_mulheres + idade\n",
    "        qtde_mulheres = qtde_mulheres + 1\n",
    "    elif sexo == 'M' or sexo == 'm':\n",
    "        soma_homens = soma_homens + idade\n",
    "        qtde_homens = qtde_homens + 1\n",
    "print(f'Médias das mulheres {soma_mulheres / qtde_mulheres}')\n",
    "print(f'Médias dos homens {soma_homens / qtde_homens}')\n",
    "print(f'Médias do grupo {(soma_homens + soma_mulheres) / (qtde_homens + qtde_mulheres)}')"
   ]
  },
  {
   "cell_type": "markdown",
   "metadata": {},
   "source": [
    "Atividade 06"
   ]
  },
  {
   "cell_type": "code",
   "execution_count": 6,
   "metadata": {},
   "outputs": [
    {
     "name": "stdout",
     "output_type": "stream",
     "text": [
      "7\n",
      "14\n",
      "21\n",
      "28\n",
      "35\n",
      "42\n",
      "49\n",
      "56\n",
      "63\n",
      "70\n",
      "77\n",
      "84\n",
      "91\n",
      "98\n"
     ]
    }
   ],
   "source": [
    "for x in range(5, 100) :\n",
    "    if x % 7 == 0 :\n",
    "        print(x)"
   ]
  },
  {
   "cell_type": "markdown",
   "metadata": {},
   "source": [
    "Atividade 07"
   ]
  },
  {
   "cell_type": "code",
   "execution_count": 27,
   "metadata": {},
   "outputs": [
    {
     "name": "stdout",
     "output_type": "stream",
     "text": [
      "ruhtra\n"
     ]
    }
   ],
   "source": [
    "palavra = input('Digite uma palavra:')\n",
    "nova_palavra = ''\n",
    "for letra in palavra :\n",
    "    nova_palavra = letra + nova_palavra\n",
    "\n",
    "print(nova_palavra)"
   ]
  }
 ],
 "metadata": {
  "kernelspec": {
   "display_name": "Python 3",
   "language": "python",
   "name": "python3"
  },
  "language_info": {
   "codemirror_mode": {
    "name": "ipython",
    "version": 3
   },
   "file_extension": ".py",
   "mimetype": "text/x-python",
   "name": "python",
   "nbconvert_exporter": "python",
   "pygments_lexer": "ipython3",
   "version": "3.12.2"
  }
 },
 "nbformat": 4,
 "nbformat_minor": 2
}
