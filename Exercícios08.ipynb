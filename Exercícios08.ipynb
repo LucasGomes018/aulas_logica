{
 "cells": [
  {
   "cell_type": "markdown",
   "metadata": {},
   "source": [
    "    Atividade 01"
   ]
  },
  {
   "cell_type": "code",
   "execution_count": 3,
   "metadata": {},
   "outputs": [
    {
     "name": "stdout",
     "output_type": "stream",
     "text": [
      "1\n",
      "2\n",
      "3\n",
      "4\n",
      "5\n",
      "6\n",
      "7\n",
      "8\n",
      "9\n",
      "10\n"
     ]
    }
   ],
   "source": [
    "listanr = [1, 2, 3, 4, 5, 6, 7, 8, 9, 10]\n",
    "for pos, listanr in enumerate(listanr) :\n",
    "    print(listanr)"
   ]
  },
  {
   "cell_type": "markdown",
   "metadata": {},
   "source": [
    "    Atividade 02"
   ]
  },
  {
   "cell_type": "code",
   "execution_count": 10,
   "metadata": {},
   "outputs": [
    {
     "name": "stdout",
     "output_type": "stream",
     "text": [
      "Felipe\n",
      "Vinicius\n",
      "JP\n"
     ]
    }
   ],
   "source": [
    "listaNomes= ['Felipe', 'Vinicius', 'JP']\n",
    "for pos, listaNomes in enumerate(listaNomes) :\n",
    "    print(listaNomes)"
   ]
  },
  {
   "cell_type": "markdown",
   "metadata": {},
   "source": [
    "    Atividade 03"
   ]
  },
  {
   "cell_type": "code",
   "execution_count": 22,
   "metadata": {},
   "outputs": [
    {
     "name": "stdout",
     "output_type": "stream",
     "text": [
      "Janeiro\n",
      "Junho\n",
      "Julho\n"
     ]
    }
   ],
   "source": [
    "listaMeses = ['Janeiro', 'Fevereiro', 'Março', 'Abril', 'Maio', 'Junho', 'Julho', 'Agosto', 'Setembro', 'Outubro', 'Novembro', 'Dezembro']\n",
    "for mes in listaMeses :\n",
    "    if mes [0] == 'J':\n",
    "        print(mes)\n"
   ]
  },
  {
   "cell_type": "markdown",
   "metadata": {},
   "source": [
    "    Atividade 04"
   ]
  },
  {
   "cell_type": "code",
   "execution_count": 28,
   "metadata": {},
   "outputs": [
    {
     "name": "stdout",
     "output_type": "stream",
     "text": [
      "GATO\n",
      "CACHORRO\n",
      "PÁSSARO\n",
      "PEIXE\n"
     ]
    }
   ],
   "source": [
    "listaAnimais = ['gato', 'cachorro', 'pássaro', 'peixe']\n",
    "for animais in listaAnimais :\n",
    "    print(animais.upper())"
   ]
  },
  {
   "cell_type": "markdown",
   "metadata": {},
   "source": [
    "    Atividade 05"
   ]
  },
  {
   "cell_type": "code",
   "execution_count": 39,
   "metadata": {},
   "outputs": [
    {
     "name": "stdout",
     "output_type": "stream",
     "text": [
      "O numero é 18 seu dobro é 36\n",
      "O numero é 55 seu dobro é 110\n",
      "O numero é 5 seu dobro é 10\n",
      "O numero é 90 seu dobro é 180\n",
      "O numero é 6 seu dobro é 12\n"
     ]
    }
   ],
   "source": [
    "import random\n",
    "for nr in range(1, 6):\n",
    "    nr = random.randint(1, 100)\n",
    "    print(f'O numero é {nr} seu dobro é {nr * 2}')"
   ]
  },
  {
   "cell_type": "markdown",
   "metadata": {},
   "source": [
    "    Atividade 06"
   ]
  },
  {
   "cell_type": "code",
   "execution_count": 121,
   "metadata": {},
   "outputs": [
    {
     "name": "stdout",
     "output_type": "stream",
     "text": [
      "2 54\n",
      "54\n",
      "2\n"
     ]
    }
   ],
   "source": [
    "listaNrs = [10, 2, 43, 54, 25]\n",
    "menorNr = 1000000000\n",
    "maiorNr = 0\n",
    "for nrAtual in listaNrs :\n",
    "    if nrAtual > maiorNr :\n",
    "        maiorNr = nrAtual\n",
    "    if nrAtual < menorNr :\n",
    "        menorNr = nrAtual\n",
    "    \n",
    "print(menorNr, maiorNr)\n",
    "\n",
    "# Utilizando as funções prontas do Python\n",
    "print(max(listaNrs))\n",
    "print(min(listaNrs))"
   ]
  },
  {
   "cell_type": "markdown",
   "metadata": {},
   "source": [
    "    Atividade 07"
   ]
  },
  {
   "cell_type": "code",
   "execution_count": 124,
   "metadata": {},
   "outputs": [
    {
     "name": "stdout",
     "output_type": "stream",
     "text": [
      "a palavra abelha tem 3 vogais\n"
     ]
    }
   ],
   "source": [
    "palavra = input('Digite uma palavra')\n",
    "vogais = ['a', 'e', 'i', 'o', 'u']\n",
    "qntdVogais = 0\n",
    "for letra in palavra :\n",
    "    if letra.lower() in vogais : \n",
    "        qntdVogais = qntdVogais + 1\n",
    "        \n",
    "print(f'a palavra {palavra} tem {qntdVogais} vogais')"
   ]
  },
  {
   "cell_type": "markdown",
   "metadata": {},
   "source": [
    "    Atividade 08"
   ]
  },
  {
   "cell_type": "code",
   "execution_count": 96,
   "metadata": {},
   "outputs": [
    {
     "name": "stdout",
     "output_type": "stream",
     "text": [
      "1º  Gol\n",
      "2º  Corsa\n",
      "3º  Palio\n",
      "4º  Monza\n",
      "5º  Fusca\n"
     ]
    }
   ],
   "source": [
    "carros = ' Gol; Corsa; Palio; Monza; Fusca'\n",
    "carros = carros.split(';')\n",
    "for pos, carros in enumerate(carros) :\n",
    "    print(f'{pos + 1}º {carros}')"
   ]
  },
  {
   "cell_type": "markdown",
   "metadata": {},
   "source": [
    "    Atividade 09"
   ]
  },
  {
   "cell_type": "code",
   "execution_count": null,
   "metadata": {},
   "outputs": [],
   "source": []
  },
  {
   "cell_type": "markdown",
   "metadata": {},
   "source": [
    "    Atividade 10"
   ]
  },
  {
   "cell_type": "code",
   "execution_count": null,
   "metadata": {},
   "outputs": [],
   "source": []
  }
 ],
 "metadata": {
  "kernelspec": {
   "display_name": "Python 3",
   "language": "python",
   "name": "python3"
  },
  "language_info": {
   "codemirror_mode": {
    "name": "ipython",
    "version": 3
   },
   "file_extension": ".py",
   "mimetype": "text/x-python",
   "name": "python",
   "nbconvert_exporter": "python",
   "pygments_lexer": "ipython3",
   "version": "3.12.2"
  }
 },
 "nbformat": 4,
 "nbformat_minor": 2
}
