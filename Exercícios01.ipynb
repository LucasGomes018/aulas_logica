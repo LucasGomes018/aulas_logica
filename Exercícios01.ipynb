{
 "cells": [
  {
   "cell_type": "markdown",
   "metadata": {},
   "source": [
    "Exercício 00"
   ]
  },
  {
   "cell_type": "code",
   "execution_count": 2,
   "metadata": {},
   "outputs": [
    {
     "name": "stdout",
     "output_type": "stream",
     "text": [
      "<class 'str'>\n"
     ]
    }
   ],
   "source": [
    "print(type('ola'))"
   ]
  },
  {
   "cell_type": "markdown",
   "metadata": {},
   "source": [
    "Exercício 01"
   ]
  },
  {
   "cell_type": "code",
   "execution_count": 4,
   "metadata": {},
   "outputs": [
    {
     "name": "stdout",
     "output_type": "stream",
     "text": [
      "13.0\n"
     ]
    }
   ],
   "source": [
    "numero1 = float(input('Digite um número'))\n",
    "numero2 = float(input('Digite o segundo número'))\n",
    "soma = numero1 + numero2\n",
    "print(soma)"
   ]
  },
  {
   "cell_type": "markdown",
   "metadata": {},
   "source": [
    "Exercício 02"
   ]
  },
  {
   "cell_type": "code",
   "execution_count": 19,
   "metadata": {},
   "outputs": [
    {
     "name": "stdout",
     "output_type": "stream",
     "text": [
      "O numero inteiro é: 10, seu antecessor é: 9 e seu sucessor é: 11\n"
     ]
    }
   ],
   "source": [
    "numero = int(input('Digite um numero'))\n",
    "antecessor = numero - 1\n",
    "sucessor = numero + 1\n",
    "print(f'O numero inteiro é: {numero}, seu antecessor é: {antecessor} e seu sucessor é: {sucessor}')"
   ]
  },
  {
   "cell_type": "markdown",
   "metadata": {},
   "source": [
    "Execício 03"
   ]
  },
  {
   "cell_type": "code",
   "execution_count": 24,
   "metadata": {},
   "outputs": [
    {
     "name": "stdout",
     "output_type": "stream",
     "text": [
      "o numero é 81. seu dobro é 162, seu triplo é 243 e sua raiz é 9.0\n"
     ]
    }
   ],
   "source": [
    "numero = int(input('Selecione um numero'))\n",
    "dobro = numero * 2\n",
    "triplo = numero * 3\n",
    "raiz = numero ** 0.5\n",
    "print(f'o numero é {numero}, seu dobro é {dobro}, seu triplo é {triplo} e sua raiz é {raiz}')\n"
   ]
  },
  {
   "cell_type": "markdown",
   "metadata": {},
   "source": [
    "Exercício 04"
   ]
  },
  {
   "cell_type": "code",
   "execution_count": 26,
   "metadata": {},
   "outputs": [
    {
     "name": "stdout",
     "output_type": "stream",
     "text": [
      "Sua primeira nota foi 5.0, sua segunda nota foi 6.0 e sua média é 8.0\n"
     ]
    }
   ],
   "source": [
    "nota1 = float(input('Selecione uma nota'))\n",
    "nota2 = float(input('Selecione a segunda nota'))\n",
    "soma = (nota1 + nota2) / 2\n",
    "print(f'Sua primeira nota foi {nota1}, sua segunda nota foi {nota2} e sua média é {soma}')"
   ]
  },
  {
   "cell_type": "markdown",
   "metadata": {},
   "source": [
    "Exercício 05"
   ]
  },
  {
   "cell_type": "code",
   "execution_count": 29,
   "metadata": {},
   "outputs": [
    {
     "name": "stdout",
     "output_type": "stream",
     "text": [
      "10.0m é igual a 1000.0cm e 10000.0mm\n"
     ]
    }
   ],
   "source": [
    "metro1 = float(input('Quantos metros?'))\n",
    "centimetros = metro1 * 100\n",
    "milimetros = centimetros * 10\n",
    "print(f'{metro1}m é igual a {centimetros}cm e {milimetros}mm')"
   ]
  },
  {
   "cell_type": "markdown",
   "metadata": {},
   "source": [
    "Exercício 06"
   ]
  },
  {
   "cell_type": "code",
   "execution_count": 20,
   "metadata": {},
   "outputs": [
    {
     "name": "stdout",
     "output_type": "stream",
     "text": [
      "Tabuada do 10\n",
      " 10 x 2 = 20\n",
      " 10 x 3 = 30\n",
      " 10 x 4 = 40\n",
      " 10 x 5 = 50\n",
      " 10 x 6 = 60\n",
      " 10 x 7 = 70\n",
      " 10 x 8 = 80\n",
      " 10 x 9 = 90\n",
      " 10 x 10 = 100\n"
     ]
    }
   ],
   "source": [
    "numero = int(input('Digite um número'))\n",
    "print(f'Tabuada do {numero}')\n",
    "print(f' {numero} x 2 = {numero * 2}')\n",
    "print(f' {numero} x 3 = {numero * 3}')\n",
    "print(f' {numero} x 4 = {numero * 4}')\n",
    "print(f' {numero} x 5 = {numero * 5}')\n",
    "print(f' {numero} x 6 = {numero * 6}')\n",
    "print(f' {numero} x 7 = {numero * 7}')\n",
    "print(f' {numero} x 8 = {numero * 8}')\n",
    "print(f' {numero} x 9 = {numero * 9}')\n",
    "print(f' {numero} x 10 = {numero * 10}')\n"
   ]
  },
  {
   "cell_type": "markdown",
   "metadata": {},
   "source": [
    "Exercício 07"
   ]
  },
  {
   "cell_type": "code",
   "execution_count": 30,
   "metadata": {},
   "outputs": [
    {
     "name": "stdout",
     "output_type": "stream",
     "text": [
      "10.0$\n"
     ]
    }
   ],
   "source": [
    "real = float(input('Quanto dinheiro você tem na carteira?'))\n",
    "dolar = real / 5\n",
    "print(f'{dolar}$')"
   ]
  },
  {
   "cell_type": "markdown",
   "metadata": {},
   "source": [
    "Exercício 08"
   ]
  },
  {
   "cell_type": "code",
   "execution_count": 33,
   "metadata": {},
   "outputs": [
    {
     "name": "stdout",
     "output_type": "stream",
     "text": [
      "Para pintar uma área de 50m²\n",
      "serão necessários 25.0L de tinta\n"
     ]
    }
   ],
   "source": [
    "largura = int(input('Quanto é a largura da parede?'))\n",
    "altura = int(input('Qual a altura da perede?'))\n",
    "area = largura * altura\n",
    "print(f'Para pintar uma área de {area}m²')\n",
    "area = area / 2\n",
    "print(f'serão necessários {area}L de tinta')"
   ]
  },
  {
   "cell_type": "markdown",
   "metadata": {},
   "source": [
    "Exercício 09"
   ]
  },
  {
   "cell_type": "code",
   "execution_count": 1,
   "metadata": {},
   "outputs": [
    {
     "ename": "ValueError",
     "evalue": "could not convert string to float: ''",
     "output_type": "error",
     "traceback": [
      "\u001b[1;31m---------------------------------------------------------------------------\u001b[0m",
      "\u001b[1;31mValueError\u001b[0m                                Traceback (most recent call last)",
      "Cell \u001b[1;32mIn[1], line 1\u001b[0m\n\u001b[1;32m----> 1\u001b[0m valor_cell \u001b[38;5;241m=\u001b[39m \u001b[38;5;28;43mfloat\u001b[39;49m\u001b[43m(\u001b[49m\u001b[38;5;28;43minput\u001b[39;49m\u001b[43m(\u001b[49m\u001b[38;5;124;43m'\u001b[39;49m\u001b[38;5;124;43mQual o valor do celular?\u001b[39;49m\u001b[38;5;124;43m'\u001b[39;49m\u001b[43m)\u001b[49m\u001b[43m)\u001b[49m\n\u001b[0;32m      2\u001b[0m desconto \u001b[38;5;241m=\u001b[39m (\u001b[38;5;241m5\u001b[39m\u001b[38;5;241m/\u001b[39m\u001b[38;5;241m100\u001b[39m) \u001b[38;5;241m*\u001b[39m valor_cell\n\u001b[0;32m      3\u001b[0m valor_desconto \u001b[38;5;241m=\u001b[39m valor_cell \u001b[38;5;241m-\u001b[39m desconto\n",
      "\u001b[1;31mValueError\u001b[0m: could not convert string to float: ''"
     ]
    }
   ],
   "source": [
    "valor_cell = float(input('Qual o valor do celular?'))\n",
    "desconto = (5/100) * valor_cell\n",
    "valor_desconto = valor_cell - desconto\n",
    "print(f'O valor do celular com o desconto de 5% ficara {valor_desconto}R$')"
   ]
  },
  {
   "cell_type": "markdown",
   "metadata": {},
   "source": [
    "Exercício 10"
   ]
  },
  {
   "cell_type": "code",
   "execution_count": 19,
   "metadata": {},
   "outputs": [
    {
     "name": "stdout",
     "output_type": "stream",
     "text": [
      "O aumento foi de 345.0\n",
      "Seu salario foi para 2645.0\n"
     ]
    }
   ],
   "source": [
    "salario = int(input('Qual o seu salario?'))\n",
    "aumento = (15/100) * salario\n",
    "total = salario + aumento\n",
    "print(f'O aumento foi de {aumento}')\n",
    "print(f'Seu salario foi para {total}')"
   ]
  },
  {
   "cell_type": "markdown",
   "metadata": {},
   "source": [
    "Exercício 11"
   ]
  },
  {
   "cell_type": "code",
   "execution_count": 8,
   "metadata": {},
   "outputs": [
    {
     "name": "stdout",
     "output_type": "stream",
     "text": [
      "20°C é igual a 68°F\n"
     ]
    }
   ],
   "source": [
    "graus = int(input('Quantos graus estão la fora?'))\n",
    "conta = int(graus * 9/5) + 32\n",
    "print(f'{graus}°C é igual a {conta}°F')"
   ]
  },
  {
   "cell_type": "markdown",
   "metadata": {},
   "source": [
    "Exercício 12"
   ]
  },
  {
   "cell_type": "code",
   "execution_count": 1,
   "metadata": {},
   "outputs": [
    {
     "name": "stdout",
     "output_type": "stream",
     "text": [
      "46 dias\n",
      "20.0km\n",
      "A quantia que o cliente deverá pagar é 2763.00R$\n"
     ]
    }
   ],
   "source": [
    "km_rodados = float(input('Quantos km você andou?'))\n",
    "dia = int(input('Quantos dias a pessoa andou?'))\n",
    "total = (km_rodados * 0.15) + (dia * 60)\n",
    "print(f'{dia} dias')\n",
    "print(f'{km_rodados}km')\n",
    "print(f'A quantia que o cliente deverá pagar é {total:.2f}R$')"
   ]
  }
 ],
 "metadata": {
  "kernelspec": {
   "display_name": "Python 3",
   "language": "python",
   "name": "python3"
  },
  "language_info": {
   "codemirror_mode": {
    "name": "ipython",
    "version": 3
   },
   "file_extension": ".py",
   "mimetype": "text/x-python",
   "name": "python",
   "nbconvert_exporter": "python",
   "pygments_lexer": "ipython3",
   "version": "3.12.2"
  }
 },
 "nbformat": 4,
 "nbformat_minor": 2
}
