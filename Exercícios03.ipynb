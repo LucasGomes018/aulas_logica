{
 "cells": [
  {
   "cell_type": "markdown",
   "metadata": {},
   "source": [
    "Atividade 1 - numero de 1 a 7 e dia da semana correspondente"
   ]
  },
  {
   "cell_type": "code",
   "execution_count": 4,
   "metadata": {},
   "outputs": [
    {
     "name": "stdout",
     "output_type": "stream",
     "text": [
      "O dia correspondente é Sexta-feira\n",
      "Fim\n"
     ]
    }
   ],
   "source": [
    "dia = input('Digite o numero do dia da semana')\n",
    "match dia :\n",
    "    case '1':\n",
    "        print('O dia correspondente é Domingo')\n",
    "    case '2':\n",
    "        print('O dia correspondente é Segunda-feira')\n",
    "    case '3':\n",
    "        print('O dia correspondente é Terça-Feira')\n",
    "    case '4':\n",
    "        print('O dia correspondente é Quarta-feira')\n",
    "    case '5':\n",
    "        print('O dia correspondente é Quinta-feira')\n",
    "    case '6':\n",
    "        print('O dia correspondente é Sexta-feira')\n",
    "    case '7':\n",
    "        print('O dia correspondente é Sabado')\n",
    "    case _ :\n",
    "        print('Digitou uma informação invalida')\n",
    "print(\"Fim\")"
   ]
  },
  {
   "cell_type": "markdown",
   "metadata": {},
   "source": [
    "Atividade 2 - Faixa etária"
   ]
  },
  {
   "cell_type": "code",
   "execution_count": 16,
   "metadata": {},
   "outputs": [
    {
     "name": "stdout",
     "output_type": "stream",
     "text": [
      "Adolescente\n",
      "Você tem 16 anos\n"
     ]
    }
   ],
   "source": [
    "an = int(input('Em que ano você nasceu?'))\n",
    "ae = int(input('Em que ano estamos?'))\n",
    "faixa = ae - an\n",
    "if faixa <= 10 :\n",
    "    print('Criança')\n",
    "elif faixa >= 11 and faixa < 18:\n",
    "    print('Adolescente')\n",
    "elif faixa >= 18 and faixa < 59:\n",
    "    print('Adulto')\n",
    "elif faixa >= 60 :\n",
    "    print('Idoso')\n",
    "print(f'Você tem {faixa} anos')"
   ]
  },
  {
   "cell_type": "markdown",
   "metadata": {},
   "source": [
    "Atividade 3"
   ]
  },
  {
   "cell_type": "code",
   "execution_count": 27,
   "metadata": {},
   "outputs": [
    {
     "name": "stdout",
     "output_type": "stream",
     "text": [
      "Este mês tem 31 dias\n",
      "maio\n"
     ]
    }
   ],
   "source": [
    "mes = input('Digite o mês')\n",
    "match mes.capitalize():\n",
    "    case 'Janeiro':\n",
    "        print('Este mes tem 31 dias')\n",
    "    case 'Fevereiro' :\n",
    "        print('Este mês tem 28 dias')\n",
    "    case 'Março' :\n",
    "        print('Este mês tem 31 dias')\n",
    "    case 'Abril' :\n",
    "        print('Este mês tem 30 dias')\n",
    "    case 'Maio' :\n",
    "        print('Este mês tem 31 dias')\n",
    "    case 'Junho' :\n",
    "        print('Este mês tem 30 dias')\n",
    "    case 'Julho' :\n",
    "        print('Este mês tem 31 dias')\n",
    "    case 'Agosto' :\n",
    "        print('Este mês tem 31 dias')\n",
    "    case 'Setembro' :\n",
    "        print('Este mês tem 30 dias')\n",
    "    case 'Outubro' :\n",
    "        print('Este mês tem 31 dias')\n",
    "    case 'Novembro' :\n",
    "        print('Este mês tem 30 dias')\n",
    "    case 'Dezembro' :\n",
    "        print('Este mês tem 31 dias')\n",
    "print(mes)"
   ]
  },
  {
   "cell_type": "markdown",
   "metadata": {},
   "source": [
    "Atividade 4"
   ]
  },
  {
   "cell_type": "code",
   "execution_count": 43,
   "metadata": {},
   "outputs": [
    {
     "name": "stdout",
     "output_type": "stream",
     "text": [
      "Você esta em recuperação\n",
      "5.5\n"
     ]
    }
   ],
   "source": [
    "nota1 = int(input('Digite a primeira nota'))\n",
    "nota2 = int(input('Digite a segunda nota'))\n",
    "soma = nota1 + nota2\n",
    "media = soma / 2\n",
    "if media >= 7 :\n",
    "    print(\"Aprovado\")\n",
    "elif media >= 5 and media < 7:\n",
    "    print('Você esta em recuperação')\n",
    "else :\n",
    "    print('Reprovado')\n",
    "print(media)\n"
   ]
  },
  {
   "cell_type": "markdown",
   "metadata": {},
   "source": [
    "Atividade 5"
   ]
  },
  {
   "cell_type": "code",
   "execution_count": 34,
   "metadata": {},
   "outputs": [
    {
     "name": "stdout",
     "output_type": "stream",
     "text": [
      "inf\n",
      "seu salario é inf\n"
     ]
    }
   ],
   "source": [
    "salario = float(input('Digite o seu salario'))\n",
    "if salario <= 2000 :\n",
    "    print((12/100) * salario + salario)\n",
    "elif salario <= 4000 and salario >=2000:\n",
    "    print((10/100) * salario + salario)\n",
    "elif salario > 4000:\n",
    "    print((8/100) * salario + salario)\n",
    "print(f'seu salario é {salario}')"
   ]
  }
 ],
 "metadata": {
  "kernelspec": {
   "display_name": "Python 3",
   "language": "python",
   "name": "python3"
  },
  "language_info": {
   "codemirror_mode": {
    "name": "ipython",
    "version": 3
   },
   "file_extension": ".py",
   "mimetype": "text/x-python",
   "name": "python",
   "nbconvert_exporter": "python",
   "pygments_lexer": "ipython3",
   "version": "3.12.2"
  }
 },
 "nbformat": 4,
 "nbformat_minor": 2
}
