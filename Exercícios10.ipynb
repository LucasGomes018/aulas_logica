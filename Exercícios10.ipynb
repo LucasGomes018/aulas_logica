{
 "cells": [
  {
   "cell_type": "markdown",
   "metadata": {},
   "source": [
    "$01$"
   ]
  },
  {
   "cell_type": "code",
   "execution_count": 54,
   "metadata": {},
   "outputs": [
    {
     "data": {
      "text/plain": [
       "8"
      ]
     },
     "execution_count": 54,
     "metadata": {},
     "output_type": "execute_result"
    }
   ],
   "source": [
    "x = 0\n",
    "def Chamada() :\n",
    "    global x\n",
    "    x = x + 1\n",
    "    return x\n",
    "    print(x)\n",
    "Chamada()\n",
    "Chamada()\n",
    "Chamada()\n",
    "Chamada()\n",
    "Chamada()\n",
    "Chamada()\n",
    "Chamada()\n",
    "Chamada()"
   ]
  },
  {
   "cell_type": "markdown",
   "metadata": {},
   "source": [
    "$$02$$"
   ]
  },
  {
   "cell_type": "code",
   "execution_count": 64,
   "metadata": {},
   "outputs": [
    {
     "name": "stdout",
     "output_type": "stream",
     "text": [
      "O valor em dolar é 1754.39 e em euro é 1651.38\n"
     ]
    }
   ],
   "source": [
    "dolar = 5.13\n",
    "euro = 5.45\n",
    "def Conversao(valor) :\n",
    "    global dolar, euro\n",
    "    print(f'O valor em dolar é {valor / dolar:.2f} e em euro é {valor / euro:.2f}')\n",
    "Conversao(9000)\n",
    "\n"
   ]
  },
  {
   "cell_type": "markdown",
   "metadata": {},
   "source": [
    "$03$"
   ]
  },
  {
   "cell_type": "code",
   "execution_count": 66,
   "metadata": {},
   "outputs": [
    {
     "name": "stdout",
     "output_type": "stream",
     "text": [
      "['Pedro']\n",
      "['Pedro', 'Vinicius']\n",
      "['Pedro', 'Vinicius', 'Felipe']\n",
      "['Vinicius', 'Felipe']\n"
     ]
    }
   ],
   "source": [
    "nomesLista = []\n",
    "def Add(nome) :\n",
    "    global nomesLista\n",
    "    nomesLista.append(nome)\n",
    "    print(nomesLista)\n",
    "\n",
    "# --------------------------------------------------------------------------------\n",
    "def Remove(nome):\n",
    "    nomesLista.remove(nome)\n",
    "    print(nomesLista)\n",
    "\n",
    "Add('Pedro')\n",
    "Add('Vinicius')\n",
    "Add('Felipe')\n",
    "Remove('Pedro')\n"
   ]
  },
  {
   "cell_type": "markdown",
   "metadata": {},
   "source": [
    "$04$"
   ]
  },
  {
   "cell_type": "code",
   "execution_count": 77,
   "metadata": {},
   "outputs": [
    {
     "name": "stdout",
     "output_type": "stream",
     "text": [
      "Menu\n",
      "[1] Depositar\n",
      "[2] Sacar\n",
      "[3] Consultar\n",
      "[4] Sair\n",
      "Seu saldo é R$ -inf\n"
     ]
    }
   ],
   "source": [
    "saldo = 0\n",
    "\n",
    "def Depositar(valor):\n",
    "    global saldo\n",
    "    saldo = saldo + valor\n",
    "\n",
    "def Sacar(valor):\n",
    "    global saldo\n",
    "    saldo = saldo - valor\n",
    "\n",
    "def ConsultarSaldo():\n",
    "    print(f'Seu saldo é R$ {saldo:.2f}')\n",
    "\n",
    "print('Menu')\n",
    "print('[1] Depositar')\n",
    "print('[2] Sacar')\n",
    "print('[3] Consultar')\n",
    "print('[4] Sair')\n",
    "while True:\n",
    "    opcao = input('Digite a opção do menu')\n",
    "    if opcao == '1' :\n",
    "        valor = float(input('Digite o valor para depositar'))\n",
    "        Depositar(valor)\n",
    "    elif opcao == '2' :\n",
    "        valor = float(input('Digite o valor para sacar'))\n",
    "        Sacar(valor)\n",
    "    elif opcao == '3' :\n",
    "        ConsultarSaldo()\n",
    "    else :\n",
    "        break"
   ]
  },
  {
   "cell_type": "markdown",
   "metadata": {},
   "source": [
    "$05$"
   ]
  },
  {
   "cell_type": "code",
   "execution_count": 1,
   "metadata": {},
   "outputs": [
    {
     "name": "stdout",
     "output_type": "stream",
     "text": [
      "++++++++++\n",
      "++++++++++\n",
      "++++++++++\n",
      "++++++++++\n",
      "++++++++++\n",
      "++++++++++\n",
      "++++++++++\n",
      "++++++++++\n",
      "++++++++++\n",
      "++++++++++\n",
      "++++++++++\n",
      "++++++++++\n",
      "++++++++++\n",
      "++++++++++\n",
      "++++++++++\n",
      "++++++++++\n",
      "++++++++++\n",
      "++++++++++\n",
      "++++++++++\n",
      "++++++++++\n",
      "++++++++++\n",
      "++++++++++\n",
      "++++++++++\n",
      "++++++++++\n",
      "++++++++++\n",
      "++++++++++\n",
      "++++++++++\n",
      "++++++++++\n",
      "++++++++++\n",
      "++++++++++\n",
      "++++++++++\n",
      "++++++++++\n",
      "++++++++++\n",
      "++++++++++\n",
      "++++++++++\n",
      "++++++++++\n",
      "++++++++++\n",
      "++++++++++\n",
      "++++++++++\n",
      "++++++++++\n",
      "++++++++++\n",
      "++++++++++\n",
      "++++++++++\n",
      "++++++++++\n",
      "++++++++++\n",
      "++++++++++\n",
      "++++++++++\n",
      "++++++++++\n",
      "++++++++++\n",
      "++++++++++\n"
     ]
    }
   ],
   "source": [
    "caractere = '+'\n",
    "def desenharForma(l, a) :\n",
    "    global caractere\n",
    "    for i in range(a) :\n",
    "        print(caractere * l)\n",
    "desenharForma(10, 50)"
   ]
  }
 ],
 "metadata": {
  "kernelspec": {
   "display_name": "Python 3",
   "language": "python",
   "name": "python3"
  },
  "language_info": {
   "codemirror_mode": {
    "name": "ipython",
    "version": 3
   },
   "file_extension": ".py",
   "mimetype": "text/x-python",
   "name": "python",
   "nbconvert_exporter": "python",
   "pygments_lexer": "ipython3",
   "version": "3.12.2"
  }
 },
 "nbformat": 4,
 "nbformat_minor": 2
}
