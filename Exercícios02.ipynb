{
 "cells": [
  {
   "cell_type": "markdown",
   "metadata": {},
   "source": [
    "Exercício 1 - Leia duas notas de um aluno, calcule a média e imprima aprovado ou reprovado (para ser aprovado a média deve ser no mínimo 7)"
   ]
  },
  {
   "cell_type": "code",
   "execution_count": 1,
   "metadata": {},
   "outputs": [
    {
     "name": "stdout",
     "output_type": "stream",
     "text": [
      "Aprovado!\n",
      "Sua primeira nota foi 8.0, sua segunda nota foi 9.0 e sua média 8.5\n"
     ]
    }
   ],
   "source": [
    "nota1 = float(input('Selecione uma nota'))\n",
    "nota2 = float(input('Selecione a segunda nota'))\n",
    "media = (nota1 + nota2) / 2\n",
    "if media >= 7 :\n",
    "    print(\"Aprovado!\")\n",
    "else :\n",
    "    print(\"Reprovado\")\n",
    "print(f\"Sua primeira nota foi {nota1}, sua segunda nota foi {nota2} e sua média {media}\")"
   ]
  },
  {
   "cell_type": "markdown",
   "metadata": {},
   "source": [
    "Execício 2 - Peça dois números ao usuário e mostre qual o maior e qual o menor"
   ]
  },
  {
   "cell_type": "code",
   "execution_count": 46,
   "metadata": {},
   "outputs": [
    {
     "name": "stdout",
     "output_type": "stream",
     "text": [
      "6.0 é maior\n",
      "O primeiro numero foi 4.0 e o segundo 6.0\n"
     ]
    }
   ],
   "source": [
    "n1 = float(input(\"Me de um numero\"))\n",
    "n2 = float(input(\"Me de um segundo numero\"))\n",
    "if n1 > n2 :\n",
    "    print(f\"{n1} é maior\")\n",
    "if n1 == n2 :\n",
    "    print(f'{n1} é igual a {n2}')\n",
    "else :\n",
    "    print(f\"{n2} é maior\")\n",
    "print(f\"O primeiro numero foi {n1} e o segundo {n2}\")\n",
    "\n"
   ]
  },
  {
   "cell_type": "markdown",
   "metadata": {},
   "source": [
    "Exercício 3 - numero par ou ímpar"
   ]
  },
  {
   "cell_type": "code",
   "execution_count": 22,
   "metadata": {},
   "outputs": [
    {
     "name": "stdout",
     "output_type": "stream",
     "text": [
      "Este numero é impar\n"
     ]
    }
   ],
   "source": [
    "n1 = int(input(\"Me diga um número\"))\n",
    "if n1 %2 == 0 :\n",
    "    print('Este numero é par')\n",
    "else :\n",
    "    print(\"Este numero é impar\")"
   ]
  },
  {
   "cell_type": "markdown",
   "metadata": {},
   "source": [
    "Exercício 4 - Numero inteiro e diga se é positivo ou negativo"
   ]
  },
  {
   "cell_type": "code",
   "execution_count": 50,
   "metadata": {},
   "outputs": [
    {
     "name": "stdout",
     "output_type": "stream",
     "text": [
      "Este numero é negativo\n",
      "-55\n"
     ]
    }
   ],
   "source": [
    "n = int(input(\"Me de um numero\"))\n",
    "if n >= 0 :\n",
    "    print(\"Este numero é positivo\")\n",
    "else :\n",
    "    print(\"Este numero é negativo\")\n",
    "print(n)"
   ]
  },
  {
   "cell_type": "markdown",
   "metadata": {},
   "source": [
    "Exercício 5 - data de nascimento e se é maior ou menor de idade"
   ]
  },
  {
   "cell_type": "code",
   "execution_count": 25,
   "metadata": {},
   "outputs": [
    {
     "name": "stdout",
     "output_type": "stream",
     "text": [
      "Você é maior de idade\n"
     ]
    }
   ],
   "source": [
    "ano = int(input(\"Em que ano você nasceu?\"))\n",
    "if ano < 2006 :\n",
    "    print(\"Você é maior de idade\")\n",
    "else :\n",
    "    print(\"Você é menor de idade\")\n",
    "print(ano)"
   ]
  },
  {
   "cell_type": "markdown",
   "metadata": {},
   "source": [
    "Exercício 6 - Ler dois numero e ver se são iguais ou não"
   ]
  },
  {
   "cell_type": "code",
   "execution_count": 52,
   "metadata": {},
   "outputs": [
    {
     "name": "stdout",
     "output_type": "stream",
     "text": [
      "Estes numeros são iguais\n",
      "5, 5\n"
     ]
    }
   ],
   "source": [
    "n1 = int(input(\"Me de um numero\"))\n",
    "n2 = int(input(\"Me de outro numero\"))\n",
    "if n1 == n2 :\n",
    "    print(\"Estes numeros são iguais\")\n",
    "else :\n",
    "    print(\"Eles são diferentes\")\n",
    "print(f'{n1}, {n2}')\n"
   ]
  },
  {
   "cell_type": "markdown",
   "metadata": {},
   "source": [
    "Exercício 7 - Receba a velocidade do carro e exiba que foi multado se for maior que 80km/h, o valor da\n",
    "multa será R$ 7,00 por cada km excedido, exibir o valor da multa"
   ]
  },
  {
   "cell_type": "code",
   "execution_count": 62,
   "metadata": {},
   "outputs": [
    {
     "name": "stdout",
     "output_type": "stream",
     "text": [
      "Você não foi multado\n"
     ]
    }
   ],
   "source": [
    "velocidade = float(input(\"Qual a velocidade do carro?\"))\n",
    "if velocidade > 80 :\n",
    "    print(\"Multado\")\n",
    "    print((velocidade - 80) * 7 )\n",
    "else :\n",
    "    print(\"Você não foi multado\")"
   ]
  },
  {
   "cell_type": "markdown",
   "metadata": {},
   "source": [
    "01/03/2024"
   ]
  },
  {
   "cell_type": "markdown",
   "metadata": {},
   "source": [
    "Exercício 1"
   ]
  },
  {
   "cell_type": "code",
   "execution_count": null,
   "metadata": {},
   "outputs": [],
   "source": []
  },
  {
   "cell_type": "markdown",
   "metadata": {},
   "source": [
    "Exercício 2"
   ]
  },
  {
   "cell_type": "code",
   "execution_count": 6,
   "metadata": {},
   "outputs": [
    {
     "name": "stdout",
     "output_type": "stream",
     "text": [
      "Você recebeu 10% de desconto\n",
      "1215.0\n"
     ]
    }
   ],
   "source": [
    "preço = float(input(\"Qual é o valor do produto?\"))\n",
    "desconto = (10/100) * preço\n",
    "soma = preço - desconto\n",
    "if preço > 100 :\n",
    "    print(\"Você recebeu 10% de desconto\")\n",
    "    print(soma)\n",
    "else :\n",
    "    print(preço)\n",
    "\n",
    "    "
   ]
  },
  {
   "cell_type": "markdown",
   "metadata": {},
   "source": [
    "Exercício 3"
   ]
  },
  {
   "cell_type": "code",
   "execution_count": null,
   "metadata": {},
   "outputs": [],
   "source": [
    "lado1 = int(input(\"Digite qualquer numero\"))\n",
    "lado2 = int(input(\"Digite qualquer numero\"))\n",
    "lado3 = int(input(\"Digite qualquer numero\"))\n",
    "\n"
   ]
  },
  {
   "cell_type": "markdown",
   "metadata": {},
   "source": [
    "Exercício 4"
   ]
  },
  {
   "cell_type": "code",
   "execution_count": 2,
   "metadata": {},
   "outputs": [
    {
     "name": "stdout",
     "output_type": "stream",
     "text": [
      "4\n",
      "3\n",
      "{3} {4}\n"
     ]
    }
   ],
   "source": [
    "a = int(input(\"Digite um valor\"))\n",
    "b = int(input(\"Digite outro valor\"))\n",
    "valor_a = (a + b) - a\n",
    "valor_b = (b + a) - b\n",
    "print(a)\n",
    "print(b)\n",
    "print({valor_a}, {valor_b})"
   ]
  },
  {
   "cell_type": "markdown",
   "metadata": {},
   "source": [
    "Exercício 5"
   ]
  },
  {
   "cell_type": "code",
   "execution_count": 1,
   "metadata": {},
   "outputs": [],
   "source": [
    "a = int(input(\"Digite um valor\"))\n",
    "b = int(input(\"Digite outro valor\"))\n"
   ]
  }
 ],
 "metadata": {
  "kernelspec": {
   "display_name": "Python 3",
   "language": "python",
   "name": "python3"
  },
  "language_info": {
   "codemirror_mode": {
    "name": "ipython",
    "version": 3
   },
   "file_extension": ".py",
   "mimetype": "text/x-python",
   "name": "python",
   "nbconvert_exporter": "python",
   "pygments_lexer": "ipython3",
   "version": "3.12.2"
  }
 },
 "nbformat": 4,
 "nbformat_minor": 2
}
