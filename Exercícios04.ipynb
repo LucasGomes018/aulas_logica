{
 "cells": [
  {
   "cell_type": "markdown",
   "metadata": {},
   "source": [
    "Desafio 1 - Tabela 1"
   ]
  },
  {
   "cell_type": "code",
   "execution_count": 8,
   "metadata": {},
   "outputs": [
    {
     "name": "stdout",
     "output_type": "stream",
     "text": [
      "O salario é infR$\n",
      "nan\n"
     ]
    }
   ],
   "source": [
    "salario = float(input('Digite o seu salario'))\n",
    "if salario <= 2826.65 and salario >= 2259.20:\n",
    "    print(f'O salario é {salario}R$')\n",
    "    print(salario - (salario * 7.5/100))\n",
    "else :\n",
    "    if salario <= 3751.05 and salario >=2826.65:\n",
    "        print(f'O salario é {salario}R$')\n",
    "        print(salario - (salario * 15/100))\n",
    "    if salario <= 6000.00 and salario >= 3751.05 :\n",
    "        print(f'O salario é {salario}R$')\n",
    "        print(salario - ( salario * 22.5/100))\n",
    "    if salario > 6000.00 :\n",
    "        print(f'O salario é {salario}R$')\n",
    "        print(salario - (salario * 27.5/100))\n",
    "    if salario < 2259.20 :\n",
    "        print(f'O salario é {salario}R$')\n",
    "        print('Você não precisa pagar o Imposto de Renda')\n",
    "    "
   ]
  },
  {
   "cell_type": "markdown",
   "metadata": {},
   "source": [
    "Desafio 1 - Tabela 2"
   ]
  },
  {
   "cell_type": "code",
   "execution_count": 4,
   "metadata": {},
   "outputs": [
    {
     "name": "stdout",
     "output_type": "stream",
     "text": [
      "O salario é 3500.0R$\n",
      "3080.0\n"
     ]
    }
   ],
   "source": [
    "salario = float(input('Digite o seu salario'))\n",
    "if salario <= 1412.00:\n",
    "    print(f'O salario é {salario}R$')\n",
    "    print(salario - (salario * 7.5/100))\n",
    "else :\n",
    "    if salario <= 2666.68 and salario >= 1412.00 :\n",
    "        print(f'O salario é {salario}R$')\n",
    "        print(salario - (salario * 9/100))\n",
    "    if salario <= 4000.03 and salario >=2666.68:\n",
    "        print(f'O salario é {salario}R$')\n",
    "        print(salario - (salario * 12/100))\n",
    "    if salario <= 7786.02 and salario >= 4000.03 :\n",
    "        print(f'O salario é {salario}R$')\n",
    "        print(salario - ( salario * 14/100))\n",
    "    if salario > 7786.02 :\n",
    "        print(f'O salario é {salario}R$')\n",
    "        print(salario - 908.85)"
   ]
  },
  {
   "cell_type": "markdown",
   "metadata": {},
   "source": [
    "Desafio 2"
   ]
  },
  {
   "cell_type": "code",
   "execution_count": null,
   "metadata": {},
   "outputs": [],
   "source": [
    "salario2 = float(input('Digite o seu salario'))\n",
    "if salario <= "
   ]
  }
 ],
 "metadata": {
  "kernelspec": {
   "display_name": "Python 3",
   "language": "python",
   "name": "python3"
  },
  "language_info": {
   "codemirror_mode": {
    "name": "ipython",
    "version": 3
   },
   "file_extension": ".py",
   "mimetype": "text/x-python",
   "name": "python",
   "nbconvert_exporter": "python",
   "pygments_lexer": "ipython3",
   "version": "3.12.2"
  }
 },
 "nbformat": 4,
 "nbformat_minor": 2
}
