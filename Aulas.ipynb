{
 "cells": [
  {
   "cell_type": "markdown",
   "metadata": {},
   "source": [
    "Aula 16/02/2024 - Comandos de saída (print) / Tipos de dados (string, int, float, bool) / Operações Aritiméticas ( + - * / % **)"
   ]
  },
  {
   "cell_type": "code",
   "execution_count": 15,
   "metadata": {},
   "outputs": [
    {
     "name": "stdout",
     "output_type": "stream",
     "text": [
      "ola, mundo!!\n",
      "Meu primeiro código em Python. Usando aspas duplas\n",
      "Meu primeiro código em Python. Usando aspas simples\n",
      "123\n",
      "70.5\n",
      "True\n",
      "Sesi\n",
      "14\n",
      "86\n",
      "string 10 70.5 False\n",
      "60\n",
      "54\n",
      "1316223135288\n",
      "0.009914917021571299\n",
      "1\n",
      "27\n",
      "7.0\n"
     ]
    }
   ],
   "source": [
    "# a função print serve para exibir na tela alguma msg\n",
    "# para duplicar uma linha pressionei shift + alt + seta pra baixo\n",
    "print('ola, mundo!!')\n",
    "\n",
    "print(\"Meu primeiro código em Python. Usando aspas duplas\")\n",
    "print('Meu primeiro código em Python. Usando aspas simples')\n",
    "\n",
    "print(123) # estou exibindo um número inteiro, por isso, não preciso das \"\"\n",
    "print(70.5) # Número float\n",
    "print(True) # Campo lógico (Verdadeiro ou falso) (True ou False)\n",
    "print(\"Sesi\") # Tipo String\n",
    "\n",
    "# Somando 2 números inteiros (o sinal de + para 2 números realiza a SOMA)\n",
    "print(8 + 6)\n",
    "# Porém se forem 2 strings (o sinal de + realiza a CONCATENAÇÃO)\n",
    "print('8' + '6')\n",
    "\n",
    "# Posso imprimir várias informações ao mesmo tempo separando-as por ,\n",
    "print('string', 10, 70.5, False)\n",
    "\n",
    "print( 10 + 50) # + é o operador de SOMA (número inteiro ou decimal)\n",
    "print( 67 - 13) # - é o operador de SUBTRAÇÃO ( n° inteiros ou decimal)\n",
    "print( 4214328 * 312321) # * é o operador de MULTIPLICAÇÃO\n",
    "print(7373 / 743627) # / é o operador da DIVISÃO\n",
    "print( 31 % 2) # % é o operador do resto da divisão (MÓDULO)\n",
    "print( 3 ** 3) # ** é o operador da exponenciação 3³\n",
    "\n",
    "print( (8 + 6) / 2) # O Parênteses define a maior ordem de precedência"
   ]
  },
  {
   "cell_type": "markdown",
   "metadata": {},
   "source": [
    "Aula 22/02/2024 - Comando de entrade (input) / Variáveis / Pseudocódigo"
   ]
  },
  {
   "cell_type": "code",
   "execution_count": 16,
   "metadata": {},
   "outputs": [
    {
     "name": "stdout",
     "output_type": "stream",
     "text": [
      "curso\n",
      "Desenvolvimento de Sistemas\n",
      "curso Desenvolvimento de Sistemas\n",
      "15\n",
      "21.3 ºC\n",
      "Ola Lucas , você tem 15 anos, hoje está fazendo 21.3 ºC\n",
      "Olá Lucas, você tem 15 anos, hoje está fazendo 21.3 ºC\n",
      "Arnaldo 70 90.0 kg\n",
      "Seu nome é Arnaldo, você tem 70 anos e pesa 90.0kg\n",
      "<class 'str'> <class 'int'> <class 'float'>\n"
     ]
    }
   ],
   "source": [
    "# Declarando minha primeira variável\n",
    "# Lemos da seguinte forma:\n",
    "# Variável curso recebe(=) a string \"Desenvolvimento de Sistemas\"\n",
    "# Receba/Armazene o texto Desenvolvimento de Sistemas\n",
    "curso = \"Desenvolvimento de Sistemas\"\n",
    "# Exiba o valor armazenado\n",
    "print(\"curso\") # Para imprimir uma variável não se coloca entre \" \"\n",
    "print(curso)   # Jeito correto de utilizar uma variável\n",
    "print(\"curso\", curso)\n",
    "\n",
    "# Criando e atribuindo uma variável\n",
    "idade = \"15\"\n",
    "print(idade)\n",
    "temperatura = \"21.3 ºC\"\n",
    "print(temperatura)\n",
    "nome = \"Lucas\"\n",
    "# Exiba o valor das 3 variáveis\n",
    "\n",
    "print(\"Ola\", nome, \", você tem\", idade, \"anos,\", \"hoje está fazendo\", temperatura)\n",
    "print(f'Olá {nome}, você tem {idade} anos, hoje está fazendo {temperatura}')\n",
    "\n",
    "# Declarando variáveis lógicas, recebe apenas True ou False\n",
    "chovendo = False\n",
    "dia = True\n",
    "\n",
    "# Nesta lina abaixo ocorrerá um erro pois não existe uma variável com o nome salario, então não consegue encontrar nada para exibir\n",
    "# NameError: name 'salario' is not defined\n",
    "# print(\"Salario\", salario)\n",
    "\n",
    "#Variáveis:\n",
    "# O nome de uma variável só pode começar com uma letra (Maiúsculas ou minúsculas) ou um _\n",
    "# Não pode conter espaço ou acentos\n",
    "\n",
    "#Declarando uma constante, diferentemente da variável queposso alterar o valor, na constante não é permitido, declaramos com o nome todo em maiuscula\n",
    "PI = 3.1415\n",
    "\n",
    "#Passo 1: Receber o nome da pessoa\n",
    "#No input sempre recebemos uma string\n",
    "nome = input('Qual seu nome?')\n",
    "#Passo 2: Receber a idade da pessoa\n",
    "#Posso converter essa string recebida do tipo inteiro\n",
    "idade = int(input('Qual a sua idade?'))\n",
    "#Passo 3: Receber o peso da pessoa\n",
    "#Posso converter essa string recebida di tipo float\n",
    "peso = float(input('Qual o seu peso?'))\n",
    "#Passo 4: Exibir o nome, a idade e o peso\n",
    "print(nome, idade, peso, 'kg')\n",
    "print(f'Seu nome é {nome}, você tem {idade} anos e pesa {peso}kg')\n",
    "\n",
    "#Exibindo os tipos das variáveis\n",
    "#Tudo o que recebemos do input é do tipo string\n",
    "print(type(nome), type(idade), type(peso))"
   ]
  },
  {
   "cell_type": "markdown",
   "metadata": {},
   "source": [
    "23/02/2024 - Operações com variáveis"
   ]
  },
  {
   "cell_type": "code",
   "execution_count": 17,
   "metadata": {},
   "outputs": [
    {
     "name": "stdout",
     "output_type": "stream",
     "text": [
      "60.0\n",
      "<class 'float'>\n"
     ]
    }
   ],
   "source": [
    "#Receber o primeiro número\n",
    "numero1 = float(input('Digite o primeiro número'))\n",
    "#Receber o segundo número\n",
    "numero2 = float(input('Digite o segundo número'))\n",
    "#Receber o terceiro número\n",
    "numero3 = float(input('Digite o terceiro número'))\n",
    "#Somar os dois números\n",
    "soma = numero1 + numero2 + numero3\n",
    "#Exibir o resultado\n",
    "print(soma)\n",
    "print(type(soma))"
   ]
  },
  {
   "cell_type": "code",
   "execution_count": 18,
   "metadata": {},
   "outputs": [
    {
     "name": "stdout",
     "output_type": "stream",
     "text": [
      "625.0\n"
     ]
    }
   ],
   "source": [
    "#Receba o primeiro número\n",
    "numero4 = float(input('Digite o primeiro numero'))\n",
    "#Receba o segundo número\n",
    "numero5 = float(input('Digite o segundo número'))\n",
    "multiplicaçao = numero4 * numero5\n",
    "print(multiplicaçao)"
   ]
  },
  {
   "cell_type": "code",
   "execution_count": 29,
   "metadata": {},
   "outputs": [
    {
     "name": "stdout",
     "output_type": "stream",
     "text": [
      "1309.01\n",
      "Você obteve R$ 190.99, e pagou R$ 1309.01\n"
     ]
    }
   ],
   "source": [
    "#Receber o preço do celular\n",
    "preço = float(input('Qual o valor do celular?'))\n",
    "desconto = float(input('Qual o valor do desconto'))\n",
    "preço = preço - desconto\n",
    "print(preço)\n",
    "print(f'Você obteve R$ {desconto}, e pagou R$ {preço}')"
   ]
  },
  {
   "cell_type": "code",
   "execution_count": 37,
   "metadata": {},
   "outputs": [
    {
     "name": "stdout",
     "output_type": "stream",
     "text": [
      "2.0\n",
      "4.0\n",
      "120.0\n",
      "O valor final é: 120.0\n"
     ]
    }
   ],
   "source": [
    "numero = 4 / 2\n",
    "print(numero)\n",
    "numero = numero ** 2\n",
    "print(numero)\n",
    "numero = numero * (50 - 20)\n",
    "print(numero)\n",
    "print(f'O valor final é: {numero}')"
   ]
  },
  {
   "cell_type": "markdown",
   "metadata": {},
   "source": [
    "Quanto devemos cobrar por 15 dias de trabalho"
   ]
  },
  {
   "cell_type": "code",
   "execution_count": 48,
   "metadata": {},
   "outputs": [
    {
     "name": "stdout",
     "output_type": "stream",
     "text": [
      "800\n",
      "15\n",
      "o valor final é:12000\n"
     ]
    }
   ],
   "source": [
    "#Trabalhamos 8h por dia\n",
    "#100R$ por h\n",
    "#15 dias de trabalho\n",
    "horas = 8 * 100\n",
    "print(horas)\n",
    "dias = 15\n",
    "print(dias)\n",
    "print(f'o valor final é:{horas * dias}')"
   ]
  },
  {
   "cell_type": "markdown",
   "metadata": {},
   "source": [
    "29/02/2024 - Operadores relacionais e estrutura condicionais"
   ]
  },
  {
   "cell_type": "code",
   "execution_count": 1,
   "metadata": {},
   "outputs": [
    {
     "name": "stdout",
     "output_type": "stream",
     "text": [
      " a > b? False\n",
      " a == b? False\n",
      " a != b? True\n",
      " a > b? False\n",
      " a >= b? True\n"
     ]
    }
   ],
   "source": [
    "a = 2\n",
    "b = 3\n",
    "print(f' a > b? {a > b}')\n",
    "print(f' a == b? {a == b}')\n",
    "print(f' a != b? {a != b}')\n",
    "print(f' a > b? {a > 2}')\n",
    "print(f' a >= b? {a >= 2}')"
   ]
  },
  {
   "cell_type": "code",
   "execution_count": 2,
   "metadata": {},
   "outputs": [
    {
     "name": "stdout",
     "output_type": "stream",
     "text": [
      "Posso entrar\n",
      "fim\n"
     ]
    }
   ],
   "source": [
    "tenho_ingresso = True\n",
    "if tenho_ingresso == True:\n",
    "    print('Posso entrar')\n",
    "    print('fim')"
   ]
  },
  {
   "cell_type": "code",
   "execution_count": 3,
   "metadata": {},
   "outputs": [
    {
     "name": "stdout",
     "output_type": "stream",
     "text": [
      "Maior idade\n",
      "Fim\n"
     ]
    }
   ],
   "source": [
    "# Passo 1: Receber o valor da idade\n",
    "idade = int(input('Qual sua idade?'))\n",
    "# Passo 2: Verificar se é maior ou igual a 18\n",
    "if idade >= 18 :\n",
    "    # Passo 3 : Se for Exibir \"Maior Idade\"\n",
    "    print(\"Maior idade\")\n",
    "print(\"Fim\")"
   ]
  },
  {
   "cell_type": "code",
   "execution_count": 7,
   "metadata": {},
   "outputs": [
    {
     "name": "stdout",
     "output_type": "stream",
     "text": [
      "Posso entrar\n"
     ]
    }
   ],
   "source": [
    "tenho_ingresso = True\n",
    "if tenho_ingresso == True:\n",
    "    print('Posso entrar')\n",
    "else :\n",
    "    print('num vai entrar')"
   ]
  },
  {
   "cell_type": "code",
   "execution_count": null,
   "metadata": {},
   "outputs": [],
   "source": [
    "idade = int(input('Qual sua idade?'))\n",
    "if idade >= 18 :\n",
    "    print(\"Maior idade\")\n",
    "else :\n",
    "    print('Você é menor')"
   ]
  },
  {
   "cell_type": "markdown",
   "metadata": {},
   "source": [
    "01/03/2024 - Operações Lógicos e Estrutura condicional"
   ]
  },
  {
   "cell_type": "code",
   "execution_count": 3,
   "metadata": {},
   "outputs": [
    {
     "name": "stdout",
     "output_type": "stream",
     "text": [
      "False\n",
      "False\n"
     ]
    }
   ],
   "source": [
    "a = 2\n",
    "b = 3\n",
    "c = 5\n",
    "#      False   e   False\n",
    "print((a > 2) and (b < 2)) # False\n",
    "#      False  ou  False \n",
    "print((a > 2) or (b < 2)) # False\n",
    "#      False  ou  True\n",
    "print((a > 2) or (b < 5)) # True\n",
    "\n",
    "idade = 18\n",
    "#          False        True\n",
    "print( idade > 18 or idade == 18)  # True\n",
    "#      idade >= 18 (msm coisa)"
   ]
  },
  {
   "cell_type": "code",
   "execution_count": 25,
   "metadata": {},
   "outputs": [
    {
     "name": "stdout",
     "output_type": "stream",
     "text": [
      "Abaixo do peso ideal!\n"
     ]
    }
   ],
   "source": [
    "altura = float(input('Digite sua altura (em m)'))\n",
    "peso = float(input('Digite seu peso (em kg)'))\n",
    "imc = peso / (altura ** 2)\n",
    "if imc < 18.5 :\n",
    "    print('Abaixo do peso ideal!')\n",
    "elif imc >= 18.6 and imc <= 24.9:\n",
    "    print('Peso ideal!')\n",
    "elif imc >= 25 and imc <= 29.9 :\n",
    "    print('Sobrepeso')\n",
    "else :\n",
    "    print('OBESO')"
   ]
  },
  {
   "cell_type": "code",
   "execution_count": 32,
   "metadata": {},
   "outputs": [
    {
     "name": "stdout",
     "output_type": "stream",
     "text": [
      "Triângulo Escaleno\n"
     ]
    }
   ],
   "source": [
    "lado1 = input('Digite lado 1')\n",
    "lado2 = input('Digite lado 2')\n",
    "lado3 = input('Digite lado 3')\n",
    "if lado1 == lado2 and lado2 == lado3 :\n",
    "    print('Triângulo Equilátero')\n",
    "elif lado1 != lado2 and lado2 != lado3 and lado1 != lado3 :\n",
    "    print('Triângulo Escaleno')\n",
    "else :\n",
    "    print('Triângulo Isósceles')"
   ]
  },
  {
   "cell_type": "code",
   "execution_count": 1,
   "metadata": {},
   "outputs": [
    {
     "name": "stdout",
     "output_type": "stream",
     "text": [
      " o caractere t é uma consoante\n"
     ]
    }
   ],
   "source": [
    "letra = input(\"Digite um caractere:\")\n",
    "if letra == 'a' or letra == 'e'  or letra == 'i' or letra == 'o' or letra == 'u' :\n",
    "    print(f' o caractere {letra} é uma vogal')\n",
    "elif letra == '1' or letra == '2' or letra == '3' or letra == '4' or letra == '5' or letra == '6' :\n",
    "    print(f' o caractere {letra} é um numero')\n",
    "else :\n",
    "    print(f' o caractere {letra} é uma consoante')"
   ]
  },
  {
   "cell_type": "markdown",
   "metadata": {},
   "source": [
    "07/03/2024 - Estrutura condicional aninhada / match case"
   ]
  },
  {
   "cell_type": "code",
   "execution_count": 20,
   "metadata": {},
   "outputs": [
    {
     "name": "stdout",
     "output_type": "stream",
     "text": [
      "Seu voto é facultativo\n",
      "Fim\n"
     ]
    }
   ],
   "source": [
    "idade = int(input('Digite sua idade:'))\n",
    "if idade >= 18 and idade <= 70:\n",
    "    print('Você é obrigado a votar')\n",
    "else :\n",
    "    if idade < 16 :\n",
    "        print('Você não pode votar')\n",
    "    else :\n",
    "        if idade >= 16 or idade > 70 :\n",
    "            print('Seu voto é facultativo')\n",
    "print('Fim')"
   ]
  },
  {
   "cell_type": "code",
   "execution_count": 1,
   "metadata": {},
   "outputs": [
    {
     "name": "stdout",
     "output_type": "stream",
     "text": [
      "6 + 5 = 11\n"
     ]
    }
   ],
   "source": [
    "n1 = int(input('Diite o primeiro número'))\n",
    "n2 = int(input('Digite o segundo número'))\n",
    "operador = input('Digite o operador que deseja utilizar')\n",
    "match operador :\n",
    "    case '+' :\n",
    "        print(f'{n1} + {n2} = {n1 + n2}')\n",
    "    case '-' :\n",
    "        print(f'{n1} - {n2} = {n1 - n2}')\n",
    "    case '/' :\n",
    "        print(f'{n1} / {n2} = {n1 / n2}')\n",
    "    case '*' :\n",
    "        print(f'{n1} * {n2} = {n1 * n2}')\n",
    "    case '**' :\n",
    "        print(f'{n1} ** {n2} = {n1 ** n2}')\n",
    "    case _ :\n",
    "        print(\"Operador digitado invalido\")\n",
    "\n"
   ]
  },
  {
   "cell_type": "markdown",
   "metadata": {},
   "source": [
    "08/03/2024 - Repetição - While"
   ]
  },
  {
   "cell_type": "code",
   "execution_count": 7,
   "metadata": {},
   "outputs": [
    {
     "name": "stdout",
     "output_type": "stream",
     "text": [
      "Eu vou prestar atenção na aula\n",
      "Eu vou prestar atenção na aula\n",
      "Eu vou prestar atenção na aula\n",
      "Eu vou prestar atenção na aula\n",
      "Eu vou prestar atenção na aula\n",
      "Eu vou prestar atenção na aula\n",
      "Eu vou prestar atenção na aula\n",
      "Eu vou prestar atenção na aula\n",
      "Eu vou prestar atenção na aula\n",
      "Eu vou prestar atenção na aula\n",
      "FIM\n"
     ]
    }
   ],
   "source": [
    "x = 1\n",
    "while x <= 10 :\n",
    "    print('Eu vou prestar atenção na aula')\n",
    "    x = x + 1\n",
    "print('FIM')"
   ]
  },
  {
   "cell_type": "code",
   "execution_count": 2,
   "metadata": {},
   "outputs": [
    {
     "name": "stdout",
     "output_type": "stream",
     "text": [
      "10\n",
      "9\n",
      "8\n",
      "7\n",
      "6\n",
      "5\n",
      "4\n",
      "3\n",
      "2\n",
      "1\n",
      "0\n",
      "Happy new year 🎆🎇\n"
     ]
    }
   ],
   "source": [
    "import time #Importando uma biblioteca de tempo\n",
    "x = 10\n",
    "while x >= 0 :\n",
    "    print(x)\n",
    "    time.sleep(1) #Dando uma pausa de 1s na execução\n",
    "    x = x - 1\n",
    "print('Happy new year 🎆🎇')"
   ]
  },
  {
   "cell_type": "code",
   "execution_count": 15,
   "metadata": {},
   "outputs": [
    {
     "name": "stdout",
     "output_type": "stream",
     "text": [
      "Seja bem vindo, sair\n"
     ]
    }
   ],
   "source": [
    "texto = ''\n",
    "while texto != 'sair' :\n",
    "    texto = input('Digite seu nome (\"sair\" para terminar):')\n",
    "    print(f'Seja bem vindo, {texto}')"
   ]
  },
  {
   "cell_type": "code",
   "execution_count": 2,
   "metadata": {},
   "outputs": [
    {
     "name": "stdout",
     "output_type": "stream",
     "text": [
      "VOCÊ FOI BANIDO PERMANENTEMENTE☠✌\n",
      "FIM\n"
     ]
    }
   ],
   "source": [
    "senha_senai = '12345'\n",
    "nr_tentativa = 0\n",
    "while True :\n",
    "    senha = input('Qual é a senha🤔? \"Desisto\" para sair')\n",
    "    if senha == senha_senai :\n",
    "        print('Você hackeou a rede👍😁👍')\n",
    "        break\n",
    "    elif senha == 'Desisto':\n",
    "        break\n",
    "    else :\n",
    "        nr_tentativa = nr_tentativa + 1\n",
    "        if nr_tentativa == 3 :\n",
    "            print('VOCÊ FOI BANIDO PERMANENTEMENTE☠✌')\n",
    "            break\n",
    "print('FIM')"
   ]
  },
  {
   "cell_type": "markdown",
   "metadata": {},
   "source": [
    "21/03/2024 - Revisão de While"
   ]
  },
  {
   "cell_type": "code",
   "execution_count": 4,
   "metadata": {},
   "outputs": [
    {
     "name": "stdout",
     "output_type": "stream",
     "text": [
      "FIM\n"
     ]
    }
   ],
   "source": [
    "resp = \"S\"\n",
    "while resp == \"S\" :\n",
    "    resp = input('Deseja continuar? [S / N]')\n",
    "    if resp == \"S\" or \"s\" :\n",
    "        break\n",
    "print('FIM')"
   ]
  },
  {
   "cell_type": "code",
   "execution_count": 1,
   "metadata": {},
   "outputs": [
    {
     "name": "stdout",
     "output_type": "stream",
     "text": [
      "Valor total R$ 0.00 qntd produto 0\n"
     ]
    }
   ],
   "source": [
    "soma = 0\n",
    "qntd = 0\n",
    "while True :\n",
    "    valor = float(input('Digite o valor do produto [-1 para encerrar]'))\n",
    "    if valor == -1 :\n",
    "        break\n",
    "    soma = valor + soma\n",
    "    qntd = qntd + 1 \n",
    "\n",
    "print(f'Valor total R$ {soma:.2f} qntd produto {qntd}')"
   ]
  },
  {
   "cell_type": "code",
   "execution_count": 6,
   "metadata": {},
   "outputs": [
    {
     "name": "stdout",
     "output_type": "stream",
     "text": [
      "-=-=-=-=-=-=-=-=-=-=-=-=-=-=-=-=-\n",
      "    🤔 JOGO DA ADIVINHAÇÃO 🤔   \n",
      "-=-=-=-=-=-=-=-=-=-=-=-=-=-=-=-=-\n",
      "Você chutou 25. Tente um número ⏫\n",
      "Você chutou 60. Tente um número ⏬\n",
      "Você chutou 50. Tente um número ⏫\n",
      "Você chutou 55. Tente um número ⏬\n",
      "Você chutou 53. Tente um número ⏫\n",
      "Você chutou 54. Parabens você acertou 👏👏👏\n"
     ]
    }
   ],
   "source": [
    "#Importando a biblioteca de numeros aleatórios\n",
    "import random\n",
    "#Sorteando um número de 1 a 100\n",
    "nrSorteado = random.randint(1, 100)\n",
    "\n",
    "print('-=-=-=-=-=-=-=-=-=-=-=-=-=-=-=-=-')\n",
    "print('    🤔 JOGO DA ADIVINHAÇÃO 🤔   ')\n",
    "print('-=-=-=-=-=-=-=-=-=-=-=-=-=-=-=-=-')\n",
    "\n",
    "acertou = False\n",
    "while acertou == False :\n",
    "    chute = int(input('Digite um numero entre 1 e 100:'))\n",
    "    if chute == nrSorteado :\n",
    "        print(f'Você chutou {chute}. Parabens você acertou 👏👏👏')\n",
    "        acertou = True\n",
    "    elif chute > nrSorteado :\n",
    "        print(f'Você chutou {chute}. Tente um número ⏬')\n",
    "    else :\n",
    "        print(f'Você chutou {chute}. Tente um número ⏫')"
   ]
  },
  {
   "cell_type": "markdown",
   "metadata": {},
   "source": [
    ">22/03/2024 - For"
   ]
  },
  {
   "cell_type": "code",
   "execution_count": 6,
   "metadata": {},
   "outputs": [
    {
     "name": "stdout",
     "output_type": "stream",
     "text": [
      "1\n",
      "2\n",
      "3\n",
      "4\n",
      "5\n",
      "6\n",
      "7\n",
      "8\n",
      "9\n"
     ]
    }
   ],
   "source": [
    "for x in range(9) :\n",
    "    x += 1\n",
    "    print(x)"
   ]
  },
  {
   "cell_type": "code",
   "execution_count": 7,
   "metadata": {},
   "outputs": [
    {
     "name": "stdout",
     "output_type": "stream",
     "text": [
      "0\n",
      "1\n",
      "2\n",
      "3\n",
      "4\n",
      "5\n",
      "6\n",
      "7\n",
      "8\n",
      "9\n"
     ]
    }
   ],
   "source": [
    "for x in range(10) :\n",
    "    print(x)"
   ]
  },
  {
   "cell_type": "code",
   "execution_count": null,
   "metadata": {},
   "outputs": [],
   "source": [
    "print('Entregando os notebooks')\n",
    "for nr in range(32) :\n",
    "    nr += 1\n",
    "    nome = input(f'Quem é o n° {nr}')\n",
    "    presente = input(f'O(a) {nome} veio para a escola? [S/N]')\n",
    "    if presente == 'S' :\n",
    "        print(f'Pegar o notebook {nr}')\n",
    "        print(f'Pegar o mouse {nr}')\n",
    "        print(f'Levar o notebook até o(a) {nome} ')\n",
    "    else :\n",
    "        print(f'Não pegar o notebook {nr}')\n",
    "print('Começar a aula')"
   ]
  },
  {
   "cell_type": "code",
   "execution_count": 2,
   "metadata": {},
   "outputs": [
    {
     "name": "stdout",
     "output_type": "stream",
     "text": [
      "5\n",
      "6\n",
      "7\n",
      "8\n",
      "9\n"
     ]
    }
   ],
   "source": [
    "for x in range(5, 10) :\n",
    "    print(x)"
   ]
  },
  {
   "cell_type": "code",
   "execution_count": 3,
   "metadata": {},
   "outputs": [
    {
     "name": "stdout",
     "output_type": "stream",
     "text": [
      "5\n",
      "7\n",
      "9\n",
      "11\n",
      "13\n",
      "15\n",
      "17\n",
      "19\n",
      "21\n",
      "23\n",
      "25\n",
      "27\n",
      "29\n"
     ]
    }
   ],
   "source": [
    "for x in range(5, 30, 2) :\n",
    "    print(x)"
   ]
  },
  {
   "cell_type": "code",
   "execution_count": 9,
   "metadata": {},
   "outputs": [
    {
     "name": "stdout",
     "output_type": "stream",
     "text": [
      "50 x 0 = 0\n",
      "50 x 1 = 50\n",
      "50 x 2 = 100\n",
      "50 x 3 = 150\n",
      "50 x 4 = 200\n",
      "50 x 5 = 250\n",
      "50 x 6 = 300\n",
      "50 x 7 = 350\n",
      "50 x 8 = 400\n",
      "50 x 9 = 450\n",
      "50 x 10 = 500\n"
     ]
    }
   ],
   "source": [
    "n = int(input('Digite o nr'))\n",
    "for x in range(11) :\n",
    "    print(f'{n} x {x} = {n * x}')"
   ]
  },
  {
   "cell_type": "code",
   "execution_count": 10,
   "metadata": {},
   "outputs": [
    {
     "name": "stdout",
     "output_type": "stream",
     "text": [
      "S\n",
      "E\n",
      "S\n",
      "I\n",
      "/\n",
      "S\n",
      "E\n",
      "N\n",
      "A\n",
      "I\n",
      "FIM\n"
     ]
    }
   ],
   "source": [
    "for letra in 'SESI/SENAI' :\n",
    "    print(letra)\n",
    "print('FIM')"
   ]
  },
  {
   "cell_type": "code",
   "execution_count": 11,
   "metadata": {},
   "outputs": [
    {
     "name": "stdout",
     "output_type": "stream",
     "text": [
      "0\n",
      "1\n",
      "2\n",
      "3\n",
      "4\n",
      "5\n",
      "6\n",
      "7\n",
      "8\n",
      "9\n"
     ]
    }
   ],
   "source": [
    "for x in range(100) :\n",
    "    if x == 10 :\n",
    "        break\n",
    "    print(x)"
   ]
  },
  {
   "cell_type": "markdown",
   "metadata": {},
   "source": [
    ">28/03/2024 - Variaveis Compostas - Vetores / Listas"
   ]
  },
  {
   "cell_type": "code",
   "execution_count": 16,
   "metadata": {},
   "outputs": [
    {
     "name": "stdout",
     "output_type": "stream",
     "text": [
      "['Maçã', 'Banana', 'Abacaxi', 'Uva']\n",
      "Maçã\n"
     ]
    }
   ],
   "source": [
    "frutas = ['Maçã', 'Banana', 'Abacaxi', 'Uva']\n",
    "print(frutas)\n",
    "print(frutas[0])\n",
    "\n",
    "#Declaração de uma lista vazia\n",
    "lista_vazia = []\n",
    "\n",
    "#Declaração de uma lista de numeros\n",
    "numeros = [5, 8, 10, 40, 3]\n",
    "\n",
    "#Declaração de uma lista de strings\n",
    "nomes = ['Ana', 'Joâo', 'Maria']\n",
    "\n",
    "#Declaração de uma lista mista\n",
    "lista_mista = [1, \"Teste\", True, 3.5]"
   ]
  },
  {
   "cell_type": "code",
   "execution_count": 43,
   "metadata": {},
   "outputs": [
    {
     "name": "stdout",
     "output_type": "stream",
     "text": [
      "['Maçã', 'Banana', 'Abacaxi', 'Melancia']\n",
      "['Maçã', 'Banana', 'Abacaxi', 'Melancia', 'Laranja']\n",
      "['Maçã', 'Banana', 'Morango', 'Abacaxi', 'Melancia', 'Laranja']\n",
      "['Maçã', 'Banana', 'Morango', 'Melancia', 'Laranja']\n"
     ]
    }
   ],
   "source": [
    "frutas = ['Maçã', 'Banana', 'Abacaxi', 'Uva']\n",
    "frutas[3] = 'Melancia'\n",
    "print(frutas)\n",
    "\n",
    "#Incluindo um novo item no final na lista\n",
    "frutas.append('Laranja')\n",
    "print(frutas)\n",
    "\n",
    "#Incluindo um novo item na posição especifica\n",
    "frutas.insert(2, 'Morango')\n",
    "print(frutas)\n",
    "\n",
    "#\n",
    "del frutas[3]\n",
    "print(frutas)"
   ]
  },
  {
   "cell_type": "code",
   "execution_count": 39,
   "metadata": {},
   "outputs": [
    {
     "name": "stdout",
     "output_type": "stream",
     "text": [
      "Melancia\n",
      "['Maçã', 'Banana', 'Morango', 'Abacaxi']\n",
      "['Banana', 'Morango', 'Abacaxi', 'Melancia', 'Laranja', 'Uva']\n",
      "Uva\n",
      "7\n"
     ]
    }
   ],
   "source": [
    "frutas = ['Maçã', 'Banana', 'Morango', 'Abacaxi', 'Melancia', 'Laranja', 'Uva']\n",
    "print(frutas[4])    # Posição específica\n",
    "print(frutas[0:4])  # Da posição 0 pegar 4 itens\n",
    "print(frutas[1:])   # Da posição 1 até o ultimo\n",
    "print(frutas[-1])   # Nr de itens do fim pro inicio\n",
    "print(len(frutas))  # Total de itens na lista"
   ]
  },
  {
   "cell_type": "code",
   "execution_count": 40,
   "metadata": {},
   "outputs": [
    {
     "name": "stdout",
     "output_type": "stream",
     "text": [
      "['Abacaxi', 'Banana', 'Laranja', 'Maçã', 'Melancia', 'Morango', 'Uva']\n"
     ]
    }
   ],
   "source": [
    "#Ordenando a lista em ordem crescente\n",
    "frutas = ['Maçã', 'Banana', 'Morango', 'Abacaxi', 'Melancia', 'Laranja', 'Uva']\n",
    "frutas.sort()\n",
    "print(frutas)"
   ]
  },
  {
   "cell_type": "code",
   "execution_count": 42,
   "metadata": {},
   "outputs": [
    {
     "name": "stdout",
     "output_type": "stream",
     "text": [
      "['Uva', 'Laranja', 'Melancia', 'Abacaxi', 'Morango', 'Banana', 'Maçã']\n"
     ]
    }
   ],
   "source": [
    "#ordenando a lista em ordem decrescente\n",
    "frutas = ['Maçã', 'Banana', 'Morango', 'Abacaxi', 'Melancia', 'Laranja', 'Uva']\n",
    "frutas.reverse()\n",
    "print(frutas)"
   ]
  },
  {
   "cell_type": "markdown",
   "metadata": {},
   "source": [
    "Aula 04/04/2024 - Iteração em listas"
   ]
  },
  {
   "cell_type": "code",
   "execution_count": 32,
   "metadata": {},
   "outputs": [
    {
     "name": "stdout",
     "output_type": "stream",
     "text": [
      "É um caractere especial\n",
      "Caractere é !\n"
     ]
    }
   ],
   "source": [
    "#Criando uma lista de vogais\n",
    "vogais = ['a', 'e', 'i', 'o', 'u']\n",
    "consoante = ['b', 'c', 'd', 'f', 'g', 'h', 'j', 'k', 'l', 'm', 'n', 'p', 'q', 'r', 's', 't', 'v', 'w', 'x', 'y', 'z']\n",
    "numero = ['0', '1', '2', '3', '4', '5', '6', '7', '8', '9']\n",
    "#Recebendo um caractere digitado pelo usuário\n",
    "letra = input('Informe um caractere')\n",
    "# O metodo .lower() deixa todos as letras digitadas como minúsculas\n",
    "# O metodo .upper() deixa todas as letras digitadas como maiúsculas\n",
    "# Lemos da seguinte forma:\n",
    "# SE a letra em MINUSCULA ESTIVER na lista de vogais ENTÃO\n",
    "if letra.lower() in vogais :\n",
    "    print('É uma vogal')\n",
    "elif letra.lower() in consoante :\n",
    "    print('É uma consoante')\n",
    "elif letra in numero :\n",
    "    print('É um numero')\n",
    "else :\n",
    "    print('É um caractere especial')\n",
    "print(f'Caractere é {letra}')"
   ]
  },
  {
   "cell_type": "code",
   "execution_count": 41,
   "metadata": {},
   "outputs": [
    {
     "name": "stdout",
     "output_type": "stream",
     "text": [
      "Pelé\n",
      "Maradona\n",
      "Messi\n",
      "CR7\n"
     ]
    }
   ],
   "source": [
    "listaNomes = ['Pelé', 'Maradona', 'Messi', 'CR7']\n",
    "for nome in listaNomes :\n",
    "    print(nome)"
   ]
  },
  {
   "cell_type": "code",
   "execution_count": 43,
   "metadata": {},
   "outputs": [
    {
     "name": "stdout",
     "output_type": "stream",
     "text": [
      "26\n"
     ]
    }
   ],
   "source": [
    "listaNrs = [4, 6, 2, 5, 9]\n",
    "soma = 0\n",
    "for nr in listaNrs :\n",
    "    soma = soma + nr\n",
    "print(soma)"
   ]
  },
  {
   "cell_type": "code",
   "execution_count": 45,
   "metadata": {},
   "outputs": [
    {
     "name": "stdout",
     "output_type": "stream",
     "text": [
      "A fruta Maçã está na posição 0\n",
      "A fruta Banana está na posição 1\n",
      "A fruta Abacaxi está na posição 2\n",
      "A fruta Uva está na posição 3\n"
     ]
    }
   ],
   "source": [
    "listaFrutas = ['Maçã', 'Banana', 'Abacaxi', 'Uva']\n",
    "for pos, fruta in enumerate(listaFrutas) :\n",
    "    print(f'A fruta {fruta} está na posição {pos}')"
   ]
  },
  {
   "cell_type": "code",
   "execution_count": 49,
   "metadata": {},
   "outputs": [
    {
     "name": "stdout",
     "output_type": "stream",
     "text": [
      " Celular\n",
      " Notebook\n",
      " TV\n",
      " Tablet\n",
      " Headset\n"
     ]
    }
   ],
   "source": [
    "produtos = ' Celular, Notebook, TV, Tablet, Headset'\n",
    "listaProdutos = produtos.split(',')\n",
    "for produto in listaProdutos:\n",
    "    print(produto)"
   ]
  },
  {
   "cell_type": "code",
   "execution_count": 51,
   "metadata": {},
   "outputs": [
    {
     "name": "stdout",
     "output_type": "stream",
     "text": [
      "S\n",
      "S\n",
      "I\n",
      "E\n",
      "S\n",
      "I\n",
      "N\n",
      "S\n",
      "I\n",
      "A\n",
      "S\n",
      "I\n",
      "I\n",
      "S\n",
      "I\n"
     ]
    }
   ],
   "source": [
    "palavra = 'SENAI'\n",
    "for letra in palavra :\n",
    "    print(letra)\n",
    "    print(palavra[0])\n",
    "    print(palavra[-1])"
   ]
  },
  {
   "cell_type": "code",
   "execution_count": 9,
   "metadata": {},
   "outputs": [
    {
     "name": "stdout",
     "output_type": "stream",
     "text": [
      "1º pizza\n",
      "2º lasanha\n",
      "3º lanche\n"
     ]
    }
   ],
   "source": [
    "# Criando uma lista vazia\n",
    "listaComidas = []\n",
    "# Laço de repetição sem um nr de execução definida\n",
    "while True :\n",
    "    # Recebendo informação do usuário e armazenando em uma variável\n",
    "    comida = input('Digite uma comida que você mais gosta')\n",
    "    # Inserindo o valor da variável no final da lista\n",
    "    listaComidas.append(comida)\n",
    "    # Obtendo a resposta do usuário se deseja continuar\n",
    "    resp = input('Deseja continuar? [S/N]')\n",
    "    # Verificando condição da resposta dele, se for N ou n sair do laço\n",
    "    if resp in 'Nn' :\n",
    "        # Parando o laço de repetição while\n",
    "        break\n",
    "# Fora do while - após finalizar sua executação e encontrar o break\n",
    "# Laço de repetição para exibir os itens e sua posições\n",
    "for pos, comida in enumerate(listaComidas) :\n",
    "# Exibindo as variáveis de cada item da lista\n",
    "print(f'{pos + 1}º {comida}')\n"
   ]
  },
  {
   "cell_type": "markdown",
   "metadata": {},
   "source": [
    "$11/04/2024 - Funções$"
   ]
  },
  {
   "cell_type": "code",
   "execution_count": 24,
   "metadata": {},
   "outputs": [
    {
     "name": "stdout",
     "output_type": "stream",
     "text": [
      "------------\n",
      "SESI / SENAI\n",
      "------------\n"
     ]
    }
   ],
   "source": [
    "print('-' * 12)\n",
    "print('SESI / SENAI')\n",
    "print('-' * 12)"
   ]
  },
  {
   "cell_type": "code",
   "execution_count": 23,
   "metadata": {},
   "outputs": [
    {
     "name": "stdout",
     "output_type": "stream",
     "text": [
      "--------------------\n",
      "SESI / SENAI\n",
      "--------------------\n"
     ]
    }
   ],
   "source": [
    "def Linha():\n",
    "    print('' * 20)\n",
    "Linha()\n",
    "print('SESI / SENAI')\n",
    "Linha()\n"
   ]
  },
  {
   "cell_type": "code",
   "execution_count": 25,
   "metadata": {},
   "outputs": [
    {
     "name": "stdout",
     "output_type": "stream",
     "text": [
      "--------------------\n",
      "SESI / SENAI\n",
      "--------------------\n"
     ]
    }
   ],
   "source": [
    "def Cabeçalho() :\n",
    "    print('-' * 20)\n",
    "    print( 'SESI / SENAI')\n",
    "    print('-' * 20)\n",
    "Cabeçalho()"
   ]
  },
  {
   "cell_type": "code",
   "execution_count": 35,
   "metadata": {},
   "outputs": [
    {
     "name": "stdout",
     "output_type": "stream",
     "text": [
      "lucas tenha um bom dia\n",
      "João tenha um bom dia\n",
      "pedro tenha um bom dia\n"
     ]
    }
   ],
   "source": [
    "def Saudacao():\n",
    "    nome = input('Qual o seu nome?')\n",
    "    print(f'{nome} tenha um bom dia')\n",
    "for n in range(3) :\n",
    "    Saudacao()"
   ]
  },
  {
   "cell_type": "code",
   "execution_count": 41,
   "metadata": {},
   "outputs": [
    {
     "name": "stdout",
     "output_type": "stream",
     "text": [
      "--------------------\n",
      "SESI\n",
      "--------------------\n",
      "--------------------\n",
      "SENAI\n",
      "--------------------\n",
      "--------------------\n",
      "ESCOLA\n",
      "--------------------\n"
     ]
    }
   ],
   "source": [
    "def Cabeçalho(texto) :\n",
    "    Linha()\n",
    "    print( texto )\n",
    "    Linha()\n",
    "Cabeçalho('SESI')\n",
    "Cabeçalho('SENAI')\n",
    "Cabeçalho('ESCOLA')"
   ]
  },
  {
   "cell_type": "code",
   "execution_count": 46,
   "metadata": {},
   "outputs": [
    {
     "name": "stdout",
     "output_type": "stream",
     "text": [
      "A soma de 10 + 5 é 15\n",
      "A soma de 15 + 23 é 38\n",
      "A soma de 17 + 19 é 36\n"
     ]
    }
   ],
   "source": [
    "def Soma(n1,n2) :\n",
    "    res = n1 + n2\n",
    "    print(f'A soma de {n1} + {n2} é {res}')\n",
    "\n",
    "Soma(10, 5)\n",
    "Soma(15, 23)\n",
    "Soma(17, 19)"
   ]
  },
  {
   "cell_type": "code",
   "execution_count": 69,
   "metadata": {},
   "outputs": [
    {
     "name": "stdout",
     "output_type": "stream",
     "text": [
      "O numero 8 é par\n",
      "O numero 15 é impar\n"
     ]
    }
   ],
   "source": [
    "def ParImpar(nr) :\n",
    "    if nr % 2 == 0:\n",
    "        print(f'O numero {nr} é par')\n",
    "    else :\n",
    "        print(f'O numero {nr} é impar')\n",
    "ParImpar(8)\n",
    "ParImpar(15)"
   ]
  },
  {
   "cell_type": "code",
   "execution_count": 73,
   "metadata": {},
   "outputs": [
    {
     "name": "stdout",
     "output_type": "stream",
     "text": [
      "9.0\n",
      "6.0\n"
     ]
    }
   ],
   "source": [
    "def Media(n1, n2) :\n",
    "    res = (n1 + n2) / 2\n",
    "    return(res)\n",
    "\n",
    "# A variável resultado_media recebe o retorno da função Media\n",
    "resultado_media = Media(10, 8)\n",
    "print(resultado_media)\n",
    "print(Media(10, 2))"
   ]
  },
  {
   "cell_type": "code",
   "execution_count": 98,
   "metadata": {},
   "outputs": [
    {
     "name": "stdout",
     "output_type": "stream",
     "text": [
      "25/12/2024\n",
      "5/4/2020\n",
      "29/6/2020\n"
     ]
    }
   ],
   "source": [
    "def FormatarData(dia, mes, ano) :\n",
    "    data = (f'{dia}/{mes}/{ano}')\n",
    "    return(data)\n",
    "\n",
    "print(FormatarData(25,12,2024))\n",
    "print(FormatarData(5,4,2020))\n",
    "print(FormatarData(29,6,2020))\n"
   ]
  },
  {
   "cell_type": "markdown",
   "metadata": {},
   "source": [
    "    12/04/2024 - Escopo de variáveis (Variável local e globas)"
   ]
  },
  {
   "cell_type": "code",
   "execution_count": 4,
   "metadata": {},
   "outputs": [
    {
     "name": "stdout",
     "output_type": "stream",
     "text": [
      "Valor Antes da função SENAI\n",
      "Valor dentro da função SESI\n",
      "Valor DEPOIS da função SENAI\n"
     ]
    }
   ],
   "source": [
    "def NomeEscola() :\n",
    "    escola = 'SESI'\n",
    "    print(f'Valor dentro da função {escola}')\n",
    "\n",
    "escola = 'SENAI'\n",
    "print(f'Valor Antes da função {escola}')    \n",
    "NomeEscola()\n",
    "print(f'Valor DEPOIS da função {escola}')"
   ]
  },
  {
   "cell_type": "code",
   "execution_count": 7,
   "metadata": {},
   "outputs": [
    {
     "name": "stdout",
     "output_type": "stream",
     "text": [
      "Valor ANTES da função SENAI\n",
      "Valor dentro da função SESI\n",
      "Valor DEPOIS da função SESI\n"
     ]
    }
   ],
   "source": [
    "def NomeEscola():\n",
    "    # Caso eu queira atualizar o conteúdo da variável escola\n",
    "    # preciso escrever que ela é a global\n",
    "    global escola\n",
    "    escola = 'SESI'\n",
    "    print(f'Valor dentro da função {escola}')\n",
    "    \n",
    "escola = 'SENAI'\n",
    "print(f'Valor ANTES da função {escola}')\n",
    "NomeEscola()\n",
    "print(f'Valor DEPOIS da função {escola}')"
   ]
  },
  {
   "cell_type": "code",
   "execution_count": 25,
   "metadata": {},
   "outputs": [
    {
     "name": "stdout",
     "output_type": "stream",
     "text": [
      "Fora da função 10\n",
      "Dentro da função 11\n",
      "Fora da função 11\n"
     ]
    }
   ],
   "source": [
    "# GLOBAL\n",
    "x = 10 #x é uma variável global\n",
    "# Podemos acessar x fora de uma função também\n",
    "print('Fora da função', x)\n",
    "\n",
    "def  minhaFuncao() :\n",
    "    '''\n",
    "        Aqui posso escrever a descrição do que faz uma função ->\n",
    "    '''\n",
    "    global x # Dizendo que usaremos a varialvel x global\n",
    "    x = x + 1\n",
    "    print('Dentro da função', x)\n",
    "\n",
    "minhaFuncao()\n",
    "print('Fora da função', x)"
   ]
  },
  {
   "cell_type": "code",
   "execution_count": 18,
   "metadata": {},
   "outputs": [
    {
     "name": "stdout",
     "output_type": "stream",
     "text": [
      "Fora da função 10\n",
      "Dentro da função 1\n",
      "Fora da função 10\n"
     ]
    }
   ],
   "source": [
    "# LOCAL\n",
    "x = 10 #x é uma variável global\n",
    "# Podemos acessar x fora de uma função também\n",
    "print('Fora da função', x)\n",
    "\n",
    "def  minhaFuncao() :\n",
    "    x = 0\n",
    "    x = x + 1\n",
    "    print('Dentro da função', x)\n",
    "\n",
    "minhaFuncao()\n",
    "print('Fora da função', x)"
   ]
  },
  {
   "cell_type": "markdown",
   "metadata": {},
   "source": [
    "$$18/04/2024$$"
   ]
  },
  {
   "cell_type": "code",
   "execution_count": null,
   "metadata": {},
   "outputs": [],
   "source": []
  }
 ],
 "metadata": {
  "kernelspec": {
   "display_name": "Python 3",
   "language": "python",
   "name": "python3"
  },
  "language_info": {
   "codemirror_mode": {
    "name": "ipython",
    "version": 3
   },
   "file_extension": ".py",
   "mimetype": "text/x-python",
   "name": "python",
   "nbconvert_exporter": "python",
   "pygments_lexer": "ipython3",
   "version": "3.12.2"
  }
 },
 "nbformat": 4,
 "nbformat_minor": 2
}
