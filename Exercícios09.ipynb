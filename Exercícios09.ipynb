{
 "cells": [
  {
   "cell_type": "markdown",
   "metadata": {},
   "source": [
    "$01$"
   ]
  },
  {
   "cell_type": "code",
   "execution_count": 3,
   "metadata": {},
   "outputs": [
    {
     "name": "stdout",
     "output_type": "stream",
     "text": [
      "**************************************************\n",
      "BEM VINDO\n",
      "**************************************************\n",
      "**************************************************\n",
      "BEM VINDO\n",
      "**************************************************\n",
      "**************************************************\n",
      "BEM VINDO\n",
      "**************************************************\n",
      "**************************************************\n",
      "BEM VINDO\n",
      "**************************************************\n"
     ]
    }
   ],
   "source": [
    "def Linha() :\n",
    "    print('*' * 50)\n",
    "Linha()\n",
    "print('BEM VINDO')\n",
    "Linha()\n",
    "Linha()\n",
    "print('BEM VINDO')\n",
    "Linha()\n",
    "Linha()\n",
    "print('BEM VINDO')\n",
    "Linha()\n",
    "Linha()\n",
    "print('BEM VINDO')\n",
    "Linha()"
   ]
  },
  {
   "cell_type": "markdown",
   "metadata": {},
   "source": [
    "$02$"
   ]
  },
  {
   "cell_type": "code",
   "execution_count": 19,
   "metadata": {},
   "outputs": [
    {
     "name": "stdout",
     "output_type": "stream",
     "text": [
      "Azul\n",
      "Vermelho\n",
      "Amarelo\n"
     ]
    }
   ],
   "source": [
    "def Cores(lista):\n",
    "    for cor in lista:\n",
    "        print(cor)\n",
    "var = ['Azul', 'Vermelho', 'Amarelo']\n",
    "Cores(var)"
   ]
  },
  {
   "cell_type": "markdown",
   "metadata": {},
   "source": [
    "$03$"
   ]
  },
  {
   "cell_type": "code",
   "execution_count": 36,
   "metadata": {},
   "outputs": [
    {
     "name": "stdout",
     "output_type": "stream",
     "text": [
      "5 x 0 = 0\n",
      "5 x 1 = 5\n",
      "5 x 2 = 10\n",
      "5 x 3 = 15\n",
      "5 x 4 = 20\n",
      "5 x 5 = 25\n",
      "5 x 6 = 30\n",
      "5 x 7 = 35\n",
      "5 x 8 = 40\n",
      "5 x 9 = 45\n",
      "5 x 10 = 50\n",
      "6 x 0 = 0\n",
      "6 x 1 = 6\n",
      "6 x 2 = 12\n",
      "6 x 3 = 18\n",
      "6 x 4 = 24\n",
      "6 x 5 = 30\n",
      "6 x 6 = 36\n",
      "6 x 7 = 42\n",
      "6 x 8 = 48\n",
      "6 x 9 = 54\n",
      "6 x 10 = 60\n",
      "7 x 0 = 0\n",
      "7 x 1 = 7\n",
      "7 x 2 = 14\n",
      "7 x 3 = 21\n",
      "7 x 4 = 28\n",
      "7 x 5 = 35\n",
      "7 x 6 = 42\n",
      "7 x 7 = 49\n",
      "7 x 8 = 56\n",
      "7 x 9 = 63\n",
      "7 x 10 = 70\n"
     ]
    }
   ],
   "source": [
    "def Tabuada(nr) :\n",
    "    for x in range(11):\n",
    "        print(f'{nr} x {x} = {nr * x}')\n",
    "Tabuada(5)\n",
    "Tabuada(6)\n",
    "Tabuada(7)"
   ]
  },
  {
   "cell_type": "markdown",
   "metadata": {},
   "source": [
    "$04$"
   ]
  },
  {
   "cell_type": "code",
   "execution_count": 43,
   "metadata": {},
   "outputs": [
    {
     "name": "stdout",
     "output_type": "stream",
     "text": [
      "13\n",
      "-1\n",
      "42\n",
      "0.8571428571428571\n",
      "279936\n"
     ]
    }
   ],
   "source": [
    "def Calculadora(n1,n2,op) :\n",
    "    if op == '+' :\n",
    "        res = n1 + n2\n",
    "    elif op == '-' :\n",
    "        res = n1 - n2\n",
    "    elif op == '*' :\n",
    "        res = n1 * n2\n",
    "    elif op == '/' :\n",
    "        res = n1 / n2\n",
    "    elif op == '**' :\n",
    "        res = n1 ** n2\n",
    "    else :\n",
    "        res = 'Digite um operador válido'\n",
    "    print(res)\n",
    "Calculadora(6, 7, '+')\n",
    "Calculadora(6, 7, '-')\n",
    "Calculadora(6, 7, '*')\n",
    "Calculadora(6, 7, '/')\n",
    "Calculadora(6, 7, '**')"
   ]
  },
  {
   "cell_type": "markdown",
   "metadata": {},
   "source": [
    "$05$"
   ]
  },
  {
   "cell_type": "code",
   "execution_count": 261,
   "metadata": {},
   "outputs": [
    {
     "name": "stdout",
     "output_type": "stream",
     "text": [
      "qdG*{Z9Nh-\n"
     ]
    }
   ],
   "source": [
    "import random\n",
    "\n",
    "def SenhaAleatoria(tamanho) :\n",
    "    listaCaracteres = 'qwertyuiopasdfghjklçzxcvbnmQWERTYUIOPASDFGHJKLÇZXCVBNM1234567890!@#$%¨&*()-_+=§{}[]/*'\n",
    "    senha = ''\n",
    "    for i in range(tamanho) :\n",
    "        senha = senha + random.choice(listaCaracteres)\n",
    "    return(senha)\n",
    "senhaTemp = SenhaAleatoria(10)\n",
    "print(senhaTemp)"
   ]
  }
 ],
 "metadata": {
  "kernelspec": {
   "display_name": "Python 3",
   "language": "python",
   "name": "python3"
  },
  "language_info": {
   "codemirror_mode": {
    "name": "ipython",
    "version": 3
   },
   "file_extension": ".py",
   "mimetype": "text/x-python",
   "name": "python",
   "nbconvert_exporter": "python",
   "pygments_lexer": "ipython3",
   "version": "3.12.2"
  }
 },
 "nbformat": 4,
 "nbformat_minor": 2
}
